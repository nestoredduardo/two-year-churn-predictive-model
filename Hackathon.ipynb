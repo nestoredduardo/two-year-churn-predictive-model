{
  "nbformat": 4,
  "nbformat_minor": 0,
  "metadata": {
    "colab": {
      "name": "Hackathon.ipynb",
      "provenance": [],
      "collapsed_sections": [],
      "toc_visible": true,
      "mount_file_id": "17tUw1bTSi2jxmC5TFBDhf8IphNeWcTgc",
      "authorship_tag": "ABX9TyNEn4dPLqcf7S20rJ0zDRn/",
      "include_colab_link": true
    },
    "kernelspec": {
      "name": "python3",
      "display_name": "Python 3"
    },
    "language_info": {
      "name": "python"
    }
  },
  "cells": [
    {
      "cell_type": "markdown",
      "metadata": {
        "id": "view-in-github",
        "colab_type": "text"
      },
      "source": [
        "<a href=\"https://colab.research.google.com/github/nestoredduardo/two-year-churn-predictive-model/blob/main/Hackathon.ipynb\" target=\"_parent\"><img src=\"https://colab.research.google.com/assets/colab-badge.svg\" alt=\"Open In Colab\"/></a>"
      ]
    },
    {
      "cell_type": "markdown",
      "metadata": {
        "id": "i_vunFWqlZJW"
      },
      "source": [
        "# **Data Scientist Hackathon**"
      ]
    },
    {
      "cell_type": "markdown",
      "metadata": {
        "id": "WPMRs6ctmHqI"
      },
      "source": [
        "# 1. Problem"
      ]
    },
    {
      "cell_type": "markdown",
      "metadata": {
        "id": "-5uObpKLmby3"
      },
      "source": [
        "# 2. Obtain Data"
      ]
    },
    {
      "cell_type": "code",
      "metadata": {
        "id": "r0DIjyokc3fa"
      },
      "source": [
        "import pandas as pd"
      ],
      "execution_count": 1,
      "outputs": []
    },
    {
      "cell_type": "code",
      "metadata": {
        "id": "dZAqVhr7bWJF"
      },
      "source": [
        "tb_clients_path = '/content/drive/MyDrive/Jobs/KIN/clients_table.txt'\n",
        "tb_credit_score_path = '/content/drive/MyDrive/Jobs/KIN/credit_score_table.txt'\n",
        "tb_products_path = '/content/drive/MyDrive/Jobs/KIN/products_table.txt'\n",
        "tb_transactions_path = '/content/drive/MyDrive/Jobs/KIN/transactions_table.txt'"
      ],
      "execution_count": 2,
      "outputs": []
    },
    {
      "cell_type": "code",
      "metadata": {
        "id": "K6ASB3GVcon-"
      },
      "source": [
        "df_clients = pd.read_csv(tb_clients_path)\n",
        "df_credit_score = pd.read_csv(tb_credit_score_path)\n",
        "df_products = pd.read_csv(tb_products_path)\n",
        "df_transactions = pd.read_csv(tb_transactions_path)"
      ],
      "execution_count": 3,
      "outputs": []
    },
    {
      "cell_type": "markdown",
      "metadata": {
        "id": "dr9EGGR8m6Nr"
      },
      "source": [
        "# 3. Scrub Data"
      ]
    },
    {
      "cell_type": "code",
      "metadata": {
        "colab": {
          "base_uri": "https://localhost:8080/",
          "height": 206
        },
        "id": "0Sgptc4r9bBU",
        "outputId": "475db198-4a49-45a6-b988-a73d8ada2485"
      },
      "source": [
        "df_clients.head()"
      ],
      "execution_count": 4,
      "outputs": [
        {
          "output_type": "execute_result",
          "data": {
            "text/html": [
              "<div>\n",
              "<style scoped>\n",
              "    .dataframe tbody tr th:only-of-type {\n",
              "        vertical-align: middle;\n",
              "    }\n",
              "\n",
              "    .dataframe tbody tr th {\n",
              "        vertical-align: top;\n",
              "    }\n",
              "\n",
              "    .dataframe thead th {\n",
              "        text-align: right;\n",
              "    }\n",
              "</style>\n",
              "<table border=\"1\" class=\"dataframe\">\n",
              "  <thead>\n",
              "    <tr style=\"text-align: right;\">\n",
              "      <th></th>\n",
              "      <th>CustomerId</th>\n",
              "      <th>Surname</th>\n",
              "      <th>Geography</th>\n",
              "      <th>Gender</th>\n",
              "      <th>HasCrCard</th>\n",
              "      <th>IsActiveMember</th>\n",
              "      <th>EstimatedSalary</th>\n",
              "      <th>application_date</th>\n",
              "      <th>exit_date</th>\n",
              "      <th>birth_date</th>\n",
              "    </tr>\n",
              "  </thead>\n",
              "  <tbody>\n",
              "    <tr>\n",
              "      <th>0</th>\n",
              "      <td>15745584</td>\n",
              "      <td>EIRLS</td>\n",
              "      <td>Germany</td>\n",
              "      <td>Female</td>\n",
              "      <td>0.0</td>\n",
              "      <td>1.0</td>\n",
              "      <td>0.00</td>\n",
              "      <td>2018-12-14</td>\n",
              "      <td>NaN</td>\n",
              "      <td>1997-09-18</td>\n",
              "    </tr>\n",
              "    <tr>\n",
              "      <th>1</th>\n",
              "      <td>14990118</td>\n",
              "      <td>MOLOCK</td>\n",
              "      <td>Italy</td>\n",
              "      <td>Male</td>\n",
              "      <td>1.0</td>\n",
              "      <td>0.0</td>\n",
              "      <td>121219.28</td>\n",
              "      <td>2019-01-08</td>\n",
              "      <td>NaN</td>\n",
              "      <td>1980-08-03</td>\n",
              "    </tr>\n",
              "    <tr>\n",
              "      <th>2</th>\n",
              "      <td>14733224</td>\n",
              "      <td>PAWLUCH</td>\n",
              "      <td>Italy</td>\n",
              "      <td>Female</td>\n",
              "      <td>1.0</td>\n",
              "      <td>1.0</td>\n",
              "      <td>159663.59</td>\n",
              "      <td>2012-08-01</td>\n",
              "      <td>2013-08-09</td>\n",
              "      <td>1977-08-19</td>\n",
              "    </tr>\n",
              "    <tr>\n",
              "      <th>3</th>\n",
              "      <td>14648573</td>\n",
              "      <td>NALLS</td>\n",
              "      <td>Spain</td>\n",
              "      <td>Male</td>\n",
              "      <td>1.0</td>\n",
              "      <td>0.0</td>\n",
              "      <td>140827.98</td>\n",
              "      <td>2019-06-19</td>\n",
              "      <td>NaN</td>\n",
              "      <td>1979-02-27</td>\n",
              "    </tr>\n",
              "    <tr>\n",
              "      <th>4</th>\n",
              "      <td>15365443</td>\n",
              "      <td>EBERLE</td>\n",
              "      <td>Italy</td>\n",
              "      <td>Male</td>\n",
              "      <td>1.0</td>\n",
              "      <td>0.0</td>\n",
              "      <td>35521.28</td>\n",
              "      <td>2014-01-26</td>\n",
              "      <td>2015-12-04</td>\n",
              "      <td>1972-12-21</td>\n",
              "    </tr>\n",
              "  </tbody>\n",
              "</table>\n",
              "</div>"
            ],
            "text/plain": [
              "   CustomerId  Surname Geography  ... application_date   exit_date  birth_date\n",
              "0    15745584    EIRLS   Germany  ...       2018-12-14         NaN  1997-09-18\n",
              "1    14990118   MOLOCK     Italy  ...       2019-01-08         NaN  1980-08-03\n",
              "2    14733224  PAWLUCH     Italy  ...       2012-08-01  2013-08-09  1977-08-19\n",
              "3    14648573    NALLS     Spain  ...       2019-06-19         NaN  1979-02-27\n",
              "4    15365443   EBERLE     Italy  ...       2014-01-26  2015-12-04  1972-12-21\n",
              "\n",
              "[5 rows x 10 columns]"
            ]
          },
          "metadata": {},
          "execution_count": 4
        }
      ]
    },
    {
      "cell_type": "code",
      "metadata": {
        "colab": {
          "base_uri": "https://localhost:8080/"
        },
        "id": "-yza4yDu-bLB",
        "outputId": "ff32cc7b-8584-4542-96b9-f17f1cc1f928"
      },
      "source": [
        "df_clients.shape"
      ],
      "execution_count": 5,
      "outputs": [
        {
          "output_type": "execute_result",
          "data": {
            "text/plain": [
              "(1545000, 10)"
            ]
          },
          "metadata": {},
          "execution_count": 5
        }
      ]
    },
    {
      "cell_type": "markdown",
      "metadata": {
        "id": "3Uo6QLZB-nW3"
      },
      "source": [
        "## Desired Population:\n",
        "a. Contracts from 2015 onwards.\n",
        "\n",
        "b. Operations in Italy were closed this year (2019).\n",
        "\n",
        "\n",
        "c. Take out clients with more than 75% of their info missing.\n",
        "\n",
        "d. Each client should only have one contract in the database, no more.\n",
        "\n",
        "e. Remember that for a client to be eligible, it must have at least two years of information within the company (even if it canceled the product)."
      ]
    },
    {
      "cell_type": "markdown",
      "metadata": {
        "id": "xuBFqfvhAoLL"
      },
      "source": [
        "### a. Contracts from 2015 onwards."
      ]
    },
    {
      "cell_type": "code",
      "metadata": {
        "colab": {
          "base_uri": "https://localhost:8080/"
        },
        "id": "pEfKkm-_A1oV",
        "outputId": "b13f12c4-a7b2-42c2-9c3b-cf4ba7353322"
      },
      "source": [
        "df_clients_desired = df_clients[df_clients['application_date'] >= '2015-01-01']\n",
        "print(df_clients_desired.head())\n",
        "print(df_clients_desired.shape)"
      ],
      "execution_count": 6,
      "outputs": [
        {
          "output_type": "stream",
          "name": "stdout",
          "text": [
            "   CustomerId   Surname Geography  ... application_date   exit_date  birth_date\n",
            "0    15745584     EIRLS   Germany  ...       2018-12-14         NaN  1997-09-18\n",
            "1    14990118    MOLOCK     Italy  ...       2019-01-08         NaN  1980-08-03\n",
            "3    14648573     NALLS     Spain  ...       2019-06-19         NaN  1979-02-27\n",
            "5    15638124  BRASHERS     Italy  ...       2018-02-23         NaN  1983-01-13\n",
            "7    14523468  LASKOSKI     Spain  ...       2017-12-28  2018-11-19  1972-10-30\n",
            "\n",
            "[5 rows x 10 columns]\n",
            "(623242, 10)\n"
          ]
        }
      ]
    },
    {
      "cell_type": "markdown",
      "metadata": {
        "id": "NKWPKEgWDPua"
      },
      "source": [
        "### b. Operations in Italy were closed this year (2019)."
      ]
    },
    {
      "cell_type": "code",
      "metadata": {
        "colab": {
          "base_uri": "https://localhost:8080/"
        },
        "id": "1KHFjYoeDWpr",
        "outputId": "9368a563-1456-402a-8ef3-19664e034679"
      },
      "source": [
        "df_clients_desired = df_clients_desired[df_clients_desired['Geography'] != 'Italy']\n",
        "print(df_clients_desired.head())\n",
        "print(df_clients_desired.shape)"
      ],
      "execution_count": 7,
      "outputs": [
        {
          "output_type": "stream",
          "name": "stdout",
          "text": [
            "    CustomerId   Surname Geography  ... application_date   exit_date  birth_date\n",
            "0     15745584     EIRLS   Germany  ...       2018-12-14         NaN  1997-09-18\n",
            "3     14648573     NALLS     Spain  ...       2019-06-19         NaN  1979-02-27\n",
            "7     14523468  LASKOSKI     Spain  ...       2017-12-28  2018-11-19  1972-10-30\n",
            "14    15165393  LABIANCA     Spain  ...       2018-02-22  2019-06-11  1974-07-11\n",
            "15    14611239     DOKKA    France  ...       2019-02-24         NaN  1986-04-26\n",
            "\n",
            "[5 rows x 10 columns]\n",
            "(487424, 10)\n"
          ]
        }
      ]
    },
    {
      "cell_type": "markdown",
      "metadata": {
        "id": "zjRAPjmoD7O0"
      },
      "source": [
        "### c. Take out clients with more than 75% of their info missing."
      ]
    },
    {
      "cell_type": "code",
      "metadata": {
        "colab": {
          "base_uri": "https://localhost:8080/"
        },
        "id": "dEOMX8MSFVlw",
        "outputId": "071150ee-8784-492a-a4a0-eb92c7cab9e1"
      },
      "source": [
        "df_clients_desired.isna().sum()"
      ],
      "execution_count": 8,
      "outputs": [
        {
          "output_type": "execute_result",
          "data": {
            "text/plain": [
              "CustomerId               0\n",
              "Surname              23362\n",
              "Geography            23349\n",
              "Gender               23349\n",
              "HasCrCard            23349\n",
              "IsActiveMember       23349\n",
              "EstimatedSalary      23349\n",
              "application_date         0\n",
              "exit_date           382626\n",
              "birth_date           23349\n",
              "dtype: int64"
            ]
          },
          "metadata": {},
          "execution_count": 8
        }
      ]
    },
    {
      "cell_type": "code",
      "metadata": {
        "colab": {
          "base_uri": "https://localhost:8080/"
        },
        "id": "Px_b8mbWEFf9",
        "outputId": "72d16fb9-c972-47e8-e623-0e4bc0d57be1"
      },
      "source": [
        "number_info_missing = 75/100 * 9\n",
        "print(number_info_missing)"
      ],
      "execution_count": 9,
      "outputs": [
        {
          "output_type": "stream",
          "name": "stdout",
          "text": [
            "6.75\n"
          ]
        }
      ]
    },
    {
      "cell_type": "code",
      "metadata": {
        "colab": {
          "base_uri": "https://localhost:8080/"
        },
        "id": "IJvAWNMGGKPi",
        "outputId": "8a9c2479-2798-4fc9-8191-7518a8cf6a9b"
      },
      "source": [
        "df_clients_desired = df_clients_desired[df_clients_desired.isnull().sum(axis=1) < number_info_missing]\n",
        "print(df_clients_desired.head())\n",
        "print(df_clients_desired.shape)"
      ],
      "execution_count": 10,
      "outputs": [
        {
          "output_type": "stream",
          "name": "stdout",
          "text": [
            "    CustomerId   Surname Geography  ... application_date   exit_date  birth_date\n",
            "0     15745584     EIRLS   Germany  ...       2018-12-14         NaN  1997-09-18\n",
            "3     14648573     NALLS     Spain  ...       2019-06-19         NaN  1979-02-27\n",
            "7     14523468  LASKOSKI     Spain  ...       2017-12-28  2018-11-19  1972-10-30\n",
            "14    15165393  LABIANCA     Spain  ...       2018-02-22  2019-06-11  1974-07-11\n",
            "15    14611239     DOKKA    France  ...       2019-02-24         NaN  1986-04-26\n",
            "\n",
            "[5 rows x 10 columns]\n",
            "(464075, 10)\n"
          ]
        }
      ]
    },
    {
      "cell_type": "markdown",
      "metadata": {
        "id": "3Evdx8qjHrdC"
      },
      "source": [
        "### d. Each client should only have one contract in the database, no more."
      ]
    },
    {
      "cell_type": "code",
      "metadata": {
        "colab": {
          "base_uri": "https://localhost:8080/"
        },
        "id": "cgq9QVHXHw9o",
        "outputId": "a69af459-1678-4363-deab-41d7825db0be"
      },
      "source": [
        "df_clients_desired.drop_duplicates(subset=['CustomerId'],keep= 'first', inplace= True)\n",
        "print(df_clients_desired.head())\n",
        "print(df_clients_desired.shape)"
      ],
      "execution_count": 11,
      "outputs": [
        {
          "output_type": "stream",
          "name": "stdout",
          "text": [
            "    CustomerId   Surname Geography  ... application_date   exit_date  birth_date\n",
            "0     15745584     EIRLS   Germany  ...       2018-12-14         NaN  1997-09-18\n",
            "3     14648573     NALLS     Spain  ...       2019-06-19         NaN  1979-02-27\n",
            "7     14523468  LASKOSKI     Spain  ...       2017-12-28  2018-11-19  1972-10-30\n",
            "14    15165393  LABIANCA     Spain  ...       2018-02-22  2019-06-11  1974-07-11\n",
            "15    14611239     DOKKA    France  ...       2019-02-24         NaN  1986-04-26\n",
            "\n",
            "[5 rows x 10 columns]\n",
            "(450562, 10)\n"
          ]
        }
      ]
    },
    {
      "cell_type": "markdown",
      "metadata": {
        "id": "_vru3CAULrMm"
      },
      "source": [
        "### e. Remember that for a client to be eligible, it must have at least two years of information within the company (even if it canceled the product)."
      ]
    },
    {
      "cell_type": "code",
      "metadata": {
        "id": "pmm-tVcOL13N"
      },
      "source": [
        "today_date = '30/11/2019'"
      ],
      "execution_count": 12,
      "outputs": []
    },
    {
      "cell_type": "code",
      "metadata": {
        "id": "BRrjYE_6P45n"
      },
      "source": [
        "application_date = pd.to_datetime(df_clients_desired['application_date'])\n",
        "df_clients_desired['exit_date'] = df_clients_desired['exit_date'].fillna(today_date)\n",
        "exit_date = pd.to_datetime(df_clients_desired['exit_date'])"
      ],
      "execution_count": 13,
      "outputs": []
    },
    {
      "cell_type": "code",
      "metadata": {
        "colab": {
          "base_uri": "https://localhost:8080/",
          "height": 206
        },
        "id": "ZnEgd1AbQgSx",
        "outputId": "5541f477-0ccb-4fb5-885a-d305cc57e9d4"
      },
      "source": [
        "df_clients_desired['application_date'] = application_date\n",
        "df_clients_desired['exit_date'] = exit_date\n",
        "df_clients_desired.head()"
      ],
      "execution_count": 14,
      "outputs": [
        {
          "output_type": "execute_result",
          "data": {
            "text/html": [
              "<div>\n",
              "<style scoped>\n",
              "    .dataframe tbody tr th:only-of-type {\n",
              "        vertical-align: middle;\n",
              "    }\n",
              "\n",
              "    .dataframe tbody tr th {\n",
              "        vertical-align: top;\n",
              "    }\n",
              "\n",
              "    .dataframe thead th {\n",
              "        text-align: right;\n",
              "    }\n",
              "</style>\n",
              "<table border=\"1\" class=\"dataframe\">\n",
              "  <thead>\n",
              "    <tr style=\"text-align: right;\">\n",
              "      <th></th>\n",
              "      <th>CustomerId</th>\n",
              "      <th>Surname</th>\n",
              "      <th>Geography</th>\n",
              "      <th>Gender</th>\n",
              "      <th>HasCrCard</th>\n",
              "      <th>IsActiveMember</th>\n",
              "      <th>EstimatedSalary</th>\n",
              "      <th>application_date</th>\n",
              "      <th>exit_date</th>\n",
              "      <th>birth_date</th>\n",
              "    </tr>\n",
              "  </thead>\n",
              "  <tbody>\n",
              "    <tr>\n",
              "      <th>0</th>\n",
              "      <td>15745584</td>\n",
              "      <td>EIRLS</td>\n",
              "      <td>Germany</td>\n",
              "      <td>Female</td>\n",
              "      <td>0.0</td>\n",
              "      <td>1.0</td>\n",
              "      <td>0.00</td>\n",
              "      <td>2018-12-14</td>\n",
              "      <td>2019-11-30</td>\n",
              "      <td>1997-09-18</td>\n",
              "    </tr>\n",
              "    <tr>\n",
              "      <th>3</th>\n",
              "      <td>14648573</td>\n",
              "      <td>NALLS</td>\n",
              "      <td>Spain</td>\n",
              "      <td>Male</td>\n",
              "      <td>1.0</td>\n",
              "      <td>0.0</td>\n",
              "      <td>140827.98</td>\n",
              "      <td>2019-06-19</td>\n",
              "      <td>2019-11-30</td>\n",
              "      <td>1979-02-27</td>\n",
              "    </tr>\n",
              "    <tr>\n",
              "      <th>7</th>\n",
              "      <td>14523468</td>\n",
              "      <td>LASKOSKI</td>\n",
              "      <td>Spain</td>\n",
              "      <td>Female</td>\n",
              "      <td>1.0</td>\n",
              "      <td>0.0</td>\n",
              "      <td>158161.23</td>\n",
              "      <td>2017-12-28</td>\n",
              "      <td>2018-11-19</td>\n",
              "      <td>1972-10-30</td>\n",
              "    </tr>\n",
              "    <tr>\n",
              "      <th>14</th>\n",
              "      <td>15165393</td>\n",
              "      <td>LABIANCA</td>\n",
              "      <td>Spain</td>\n",
              "      <td>Male</td>\n",
              "      <td>1.0</td>\n",
              "      <td>1.0</td>\n",
              "      <td>2612.65</td>\n",
              "      <td>2018-02-22</td>\n",
              "      <td>2019-06-11</td>\n",
              "      <td>1974-07-11</td>\n",
              "    </tr>\n",
              "    <tr>\n",
              "      <th>15</th>\n",
              "      <td>14611239</td>\n",
              "      <td>DOKKA</td>\n",
              "      <td>France</td>\n",
              "      <td>Male</td>\n",
              "      <td>0.0</td>\n",
              "      <td>1.0</td>\n",
              "      <td>72210.60</td>\n",
              "      <td>2019-02-24</td>\n",
              "      <td>2019-11-30</td>\n",
              "      <td>1986-04-26</td>\n",
              "    </tr>\n",
              "  </tbody>\n",
              "</table>\n",
              "</div>"
            ],
            "text/plain": [
              "    CustomerId   Surname Geography  ... application_date  exit_date  birth_date\n",
              "0     15745584     EIRLS   Germany  ...       2018-12-14 2019-11-30  1997-09-18\n",
              "3     14648573     NALLS     Spain  ...       2019-06-19 2019-11-30  1979-02-27\n",
              "7     14523468  LASKOSKI     Spain  ...       2017-12-28 2018-11-19  1972-10-30\n",
              "14    15165393  LABIANCA     Spain  ...       2018-02-22 2019-06-11  1974-07-11\n",
              "15    14611239     DOKKA    France  ...       2019-02-24 2019-11-30  1986-04-26\n",
              "\n",
              "[5 rows x 10 columns]"
            ]
          },
          "metadata": {},
          "execution_count": 14
        }
      ]
    },
    {
      "cell_type": "code",
      "metadata": {
        "id": "9eBRWLj7OI6Q"
      },
      "source": [
        "df_clients_desired = df_clients_desired[df_clients_desired['exit_date'] - df_clients_desired['application_date'] >= '730 days']"
      ],
      "execution_count": 15,
      "outputs": []
    },
    {
      "cell_type": "code",
      "metadata": {
        "colab": {
          "base_uri": "https://localhost:8080/"
        },
        "id": "gkDWPrew-3eE",
        "outputId": "5ef1a40b-3cf0-4bb5-9ab7-1b7bafa9d958"
      },
      "source": [
        "print(df_clients_desired.head())\n",
        "print(df_clients_desired.shape)"
      ],
      "execution_count": 16,
      "outputs": [
        {
          "output_type": "stream",
          "name": "stdout",
          "text": [
            "      CustomerId        Surname  ...  exit_date  birth_date\n",
            "75      15610711       Eluemuno  ... 2019-11-27  1976-10-21\n",
            "484     15594720          Scott  ... 2019-11-30  1982-05-14\n",
            "901     15706552  Odinakachukwu  ... 2019-10-02  1979-09-09\n",
            "1440    15594084       Anderson  ... 2019-09-07  1993-06-08\n",
            "1543    15756871          Capon  ... 2018-04-29  1976-04-20\n",
            "\n",
            "[5 rows x 10 columns]\n",
            "(7963, 10)\n"
          ]
        }
      ]
    },
    {
      "cell_type": "markdown",
      "metadata": {
        "id": "_5dAkA6RpiSe"
      },
      "source": [
        "# 4. Explore Data"
      ]
    },
    {
      "cell_type": "markdown",
      "metadata": {
        "id": "61H9OQS5HV21"
      },
      "source": [
        "### Age"
      ]
    },
    {
      "cell_type": "code",
      "metadata": {
        "id": "RD_oO9BNGcbD"
      },
      "source": [
        "dataset = df_clients_desired['CustomerId']\n",
        "df_dataset = pd.DataFrame(data = dataset)"
      ],
      "execution_count": 17,
      "outputs": []
    },
    {
      "cell_type": "code",
      "metadata": {
        "id": "arjinw8IHbeC"
      },
      "source": [
        "from datetime import datetime, date\n",
        "\n",
        "def age(born):\n",
        "    born = datetime.strptime(born, \"%Y-%m-%d\").date()\n",
        "    today = date.today()\n",
        "    return today.year - born.year - ((today.month, \n",
        "                                      today.day) < (born.month, \n",
        "                                                    born.day))"
      ],
      "execution_count": 18,
      "outputs": []
    },
    {
      "cell_type": "code",
      "metadata": {
        "colab": {
          "base_uri": "https://localhost:8080/",
          "height": 206
        },
        "id": "5cM0jzRcHk8B",
        "outputId": "76da2dd4-cf3a-437e-c111-549b7dde1e04"
      },
      "source": [
        "df_dataset['Age'] = df_clients_desired['birth_date'].apply(age)\n",
        "df_dataset.set_index('CustomerId')"
      ],
      "execution_count": 19,
      "outputs": [
        {
          "output_type": "execute_result",
          "data": {
            "text/html": [
              "<div>\n",
              "<style scoped>\n",
              "    .dataframe tbody tr th:only-of-type {\n",
              "        vertical-align: middle;\n",
              "    }\n",
              "\n",
              "    .dataframe tbody tr th {\n",
              "        vertical-align: top;\n",
              "    }\n",
              "\n",
              "    .dataframe thead th {\n",
              "        text-align: right;\n",
              "    }\n",
              "</style>\n",
              "<table border=\"1\" class=\"dataframe\">\n",
              "  <thead>\n",
              "    <tr style=\"text-align: right;\">\n",
              "      <th></th>\n",
              "      <th>CustomerId</th>\n",
              "      <th>Age</th>\n",
              "    </tr>\n",
              "  </thead>\n",
              "  <tbody>\n",
              "    <tr>\n",
              "      <th>75</th>\n",
              "      <td>15610711</td>\n",
              "      <td>44</td>\n",
              "    </tr>\n",
              "    <tr>\n",
              "      <th>484</th>\n",
              "      <td>15594720</td>\n",
              "      <td>39</td>\n",
              "    </tr>\n",
              "    <tr>\n",
              "      <th>901</th>\n",
              "      <td>15706552</td>\n",
              "      <td>42</td>\n",
              "    </tr>\n",
              "    <tr>\n",
              "      <th>1440</th>\n",
              "      <td>15594084</td>\n",
              "      <td>28</td>\n",
              "    </tr>\n",
              "    <tr>\n",
              "      <th>1543</th>\n",
              "      <td>15756871</td>\n",
              "      <td>45</td>\n",
              "    </tr>\n",
              "  </tbody>\n",
              "</table>\n",
              "</div>"
            ],
            "text/plain": [
              "      CustomerId  Age\n",
              "75      15610711   44\n",
              "484     15594720   39\n",
              "901     15706552   42\n",
              "1440    15594084   28\n",
              "1543    15756871   45"
            ]
          },
          "metadata": {},
          "execution_count": 19
        }
      ]
    },
    {
      "cell_type": "markdown",
      "metadata": {
        "id": "Mj5dogA8InWR"
      },
      "source": [
        "### Number of products"
      ]
    },
    {
      "cell_type": "code",
      "metadata": {
        "id": "8rvPGoCsIsVA"
      },
      "source": [
        "products_count = df_products['CustomerId'].value_counts()\n",
        "df_products_count = pd.DataFrame(data = products_count, columns = 'NumProducts')"
      ],
      "execution_count": 20,
      "outputs": []
    },
    {
      "cell_type": "code",
      "metadata": {
        "colab": {
          "base_uri": "https://localhost:8080/",
          "height": 206
        },
        "id": "hXd_7bYlJqFK",
        "outputId": "09e174dc-6d76-445d-f536-b93720ba4f6b"
      },
      "source": [
        "df_products_count.head()"
      ],
      "execution_count": 21,
      "outputs": [
        {
          "output_type": "execute_result",
          "data": {
            "text/html": [
              "<div>\n",
              "<style scoped>\n",
              "    .dataframe tbody tr th:only-of-type {\n",
              "        vertical-align: middle;\n",
              "    }\n",
              "\n",
              "    .dataframe tbody tr th {\n",
              "        vertical-align: top;\n",
              "    }\n",
              "\n",
              "    .dataframe thead th {\n",
              "        text-align: right;\n",
              "    }\n",
              "</style>\n",
              "<table border=\"1\" class=\"dataframe\">\n",
              "  <thead>\n",
              "    <tr style=\"text-align: right;\">\n",
              "      <th></th>\n",
              "      <th>CustomerId</th>\n",
              "    </tr>\n",
              "  </thead>\n",
              "  <tbody>\n",
              "    <tr>\n",
              "      <th>14678892</th>\n",
              "      <td>4</td>\n",
              "    </tr>\n",
              "    <tr>\n",
              "      <th>15932667</th>\n",
              "      <td>4</td>\n",
              "    </tr>\n",
              "    <tr>\n",
              "      <th>15550521</th>\n",
              "      <td>4</td>\n",
              "    </tr>\n",
              "    <tr>\n",
              "      <th>14976520</th>\n",
              "      <td>4</td>\n",
              "    </tr>\n",
              "    <tr>\n",
              "      <th>15742810</th>\n",
              "      <td>4</td>\n",
              "    </tr>\n",
              "  </tbody>\n",
              "</table>\n",
              "</div>"
            ],
            "text/plain": [
              "          CustomerId\n",
              "14678892           4\n",
              "15932667           4\n",
              "15550521           4\n",
              "14976520           4\n",
              "15742810           4"
            ]
          },
          "metadata": {},
          "execution_count": 21
        }
      ]
    },
    {
      "cell_type": "markdown",
      "metadata": {
        "id": "LsJs_c0oLoqc"
      },
      "source": [
        "### Balance at the moment of application"
      ]
    },
    {
      "cell_type": "code",
      "metadata": {
        "colab": {
          "base_uri": "https://localhost:8080/",
          "height": 238
        },
        "id": "4RBFY8dzLvBg",
        "outputId": "5dcd84bd-8985-4fcd-cbdb-afdfadc72511"
      },
      "source": [
        "balance = df_transactions.groupby('CustomerId')['Value'].sum()\n",
        "df_balance = pd.DataFrame(data = balance)\n",
        "df_balance.head()"
      ],
      "execution_count": 22,
      "outputs": [
        {
          "output_type": "execute_result",
          "data": {
            "text/html": [
              "<div>\n",
              "<style scoped>\n",
              "    .dataframe tbody tr th:only-of-type {\n",
              "        vertical-align: middle;\n",
              "    }\n",
              "\n",
              "    .dataframe tbody tr th {\n",
              "        vertical-align: top;\n",
              "    }\n",
              "\n",
              "    .dataframe thead th {\n",
              "        text-align: right;\n",
              "    }\n",
              "</style>\n",
              "<table border=\"1\" class=\"dataframe\">\n",
              "  <thead>\n",
              "    <tr style=\"text-align: right;\">\n",
              "      <th></th>\n",
              "      <th>Value</th>\n",
              "    </tr>\n",
              "    <tr>\n",
              "      <th>CustomerId</th>\n",
              "      <th></th>\n",
              "    </tr>\n",
              "  </thead>\n",
              "  <tbody>\n",
              "    <tr>\n",
              "      <th>14500000</th>\n",
              "      <td>0.00</td>\n",
              "    </tr>\n",
              "    <tr>\n",
              "      <th>14500001</th>\n",
              "      <td>51405.61</td>\n",
              "    </tr>\n",
              "    <tr>\n",
              "      <th>14500002</th>\n",
              "      <td>120763.50</td>\n",
              "    </tr>\n",
              "    <tr>\n",
              "      <th>14500003</th>\n",
              "      <td>149896.71</td>\n",
              "    </tr>\n",
              "    <tr>\n",
              "      <th>14500004</th>\n",
              "      <td>143061.53</td>\n",
              "    </tr>\n",
              "  </tbody>\n",
              "</table>\n",
              "</div>"
            ],
            "text/plain": [
              "                Value\n",
              "CustomerId           \n",
              "14500000         0.00\n",
              "14500001     51405.61\n",
              "14500002    120763.50\n",
              "14500003    149896.71\n",
              "14500004    143061.53"
            ]
          },
          "metadata": {},
          "execution_count": 22
        }
      ]
    },
    {
      "cell_type": "markdown",
      "metadata": {
        "id": "vg8cDZuUXK2s"
      },
      "source": [
        "### Credit bureau Scores"
      ]
    },
    {
      "cell_type": "code",
      "metadata": {
        "id": "FflGbLNnYE-a"
      },
      "source": [
        "def get_month(appDate):\n",
        "    return appDate.month, appDate.year"
      ],
      "execution_count": 23,
      "outputs": []
    },
    {
      "cell_type": "code",
      "metadata": {
        "id": "NOJkiBe7XTtJ"
      },
      "source": [
        "df_client_app_date = pd.DataFrame(df_clients_desired['CustomerId'])\n",
        "df_client_app_date['Month'], df_client_app_date['Year'] = zip(*df_clients_desired['application_date'].apply(get_month))"
      ],
      "execution_count": 24,
      "outputs": []
    },
    {
      "cell_type": "code",
      "metadata": {
        "id": "Ks_YD4AX2CKl"
      },
      "source": [
        "df_credit_score_date = pd.to_datetime(df_credit_score['Date'])\n",
        "df_credit_score['Date'] = df_credit_score_date\n",
        "df_credit_score['Month'], df_credit_score['Year']= zip(*df_credit_score['Date'].apply(get_month))"
      ],
      "execution_count": 25,
      "outputs": []
    },
    {
      "cell_type": "code",
      "metadata": {
        "id": "2SpBLmm24wlf"
      },
      "source": [
        "def getScore(row):\n",
        "    score_by_id = df_credit_score[df_credit_score['CustomerId'] == row.CustomerId]\n",
        "    score_by_month = score_by_id[(score_by_id['Year'] == row['Year']) & (score_by_id['Month'] == row['Month'])]\n",
        "    return score_by_month['Month']"
      ],
      "execution_count": 48,
      "outputs": []
    },
    {
      "cell_type": "code",
      "metadata": {
        "colab": {
          "base_uri": "https://localhost:8080/",
          "height": 310
        },
        "id": "C94x2FdN3XOJ",
        "outputId": "8294cd10-8351-49a7-ad9b-5a1690bd1421"
      },
      "source": [
        "df_client_score= df_client_app_date.apply(getScore, axis=1)\n",
        "df_client_score.head()"
      ],
      "execution_count": 54,
      "outputs": [
        {
          "output_type": "error",
          "ename": "AttributeError",
          "evalue": "ignored",
          "traceback": [
            "\u001b[0;31m---------------------------------------------------------------------------\u001b[0m",
            "\u001b[0;31mAttributeError\u001b[0m                            Traceback (most recent call last)",
            "\u001b[0;32m<ipython-input-54-755eabd50dd8>\u001b[0m in \u001b[0;36m<module>\u001b[0;34m()\u001b[0m\n\u001b[0;32m----> 1\u001b[0;31m \u001b[0mdf_client_app_date\u001b[0m\u001b[0;34m[\u001b[0m\u001b[0;34m'Score'\u001b[0m\u001b[0;34m]\u001b[0m \u001b[0;34m=\u001b[0m \u001b[0mdf_client_app_date\u001b[0m\u001b[0;34m.\u001b[0m\u001b[0mapply\u001b[0m\u001b[0;34m(\u001b[0m\u001b[0mgetScore\u001b[0m\u001b[0;34m)\u001b[0m\u001b[0;34m\u001b[0m\u001b[0;34m\u001b[0m\u001b[0m\n\u001b[0m",
            "\u001b[0;32m/usr/local/lib/python3.7/dist-packages/pandas/core/frame.py\u001b[0m in \u001b[0;36mapply\u001b[0;34m(self, func, axis, raw, result_type, args, **kwds)\u001b[0m\n\u001b[1;32m   7550\u001b[0m             \u001b[0mkwds\u001b[0m\u001b[0;34m=\u001b[0m\u001b[0mkwds\u001b[0m\u001b[0;34m,\u001b[0m\u001b[0;34m\u001b[0m\u001b[0;34m\u001b[0m\u001b[0m\n\u001b[1;32m   7551\u001b[0m         )\n\u001b[0;32m-> 7552\u001b[0;31m         \u001b[0;32mreturn\u001b[0m \u001b[0mop\u001b[0m\u001b[0;34m.\u001b[0m\u001b[0mget_result\u001b[0m\u001b[0;34m(\u001b[0m\u001b[0;34m)\u001b[0m\u001b[0;34m\u001b[0m\u001b[0;34m\u001b[0m\u001b[0m\n\u001b[0m\u001b[1;32m   7553\u001b[0m \u001b[0;34m\u001b[0m\u001b[0m\n\u001b[1;32m   7554\u001b[0m     \u001b[0;32mdef\u001b[0m \u001b[0mapplymap\u001b[0m\u001b[0;34m(\u001b[0m\u001b[0mself\u001b[0m\u001b[0;34m,\u001b[0m \u001b[0mfunc\u001b[0m\u001b[0;34m)\u001b[0m \u001b[0;34m->\u001b[0m \u001b[0;34m\"DataFrame\"\u001b[0m\u001b[0;34m:\u001b[0m\u001b[0;34m\u001b[0m\u001b[0;34m\u001b[0m\u001b[0m\n",
            "\u001b[0;32m/usr/local/lib/python3.7/dist-packages/pandas/core/apply.py\u001b[0m in \u001b[0;36mget_result\u001b[0;34m(self)\u001b[0m\n\u001b[1;32m    183\u001b[0m             \u001b[0;32mreturn\u001b[0m \u001b[0mself\u001b[0m\u001b[0;34m.\u001b[0m\u001b[0mapply_raw\u001b[0m\u001b[0;34m(\u001b[0m\u001b[0;34m)\u001b[0m\u001b[0;34m\u001b[0m\u001b[0;34m\u001b[0m\u001b[0m\n\u001b[1;32m    184\u001b[0m \u001b[0;34m\u001b[0m\u001b[0m\n\u001b[0;32m--> 185\u001b[0;31m         \u001b[0;32mreturn\u001b[0m \u001b[0mself\u001b[0m\u001b[0;34m.\u001b[0m\u001b[0mapply_standard\u001b[0m\u001b[0;34m(\u001b[0m\u001b[0;34m)\u001b[0m\u001b[0;34m\u001b[0m\u001b[0;34m\u001b[0m\u001b[0m\n\u001b[0m\u001b[1;32m    186\u001b[0m \u001b[0;34m\u001b[0m\u001b[0m\n\u001b[1;32m    187\u001b[0m     \u001b[0;32mdef\u001b[0m \u001b[0mapply_empty_result\u001b[0m\u001b[0;34m(\u001b[0m\u001b[0mself\u001b[0m\u001b[0;34m)\u001b[0m\u001b[0;34m:\u001b[0m\u001b[0;34m\u001b[0m\u001b[0;34m\u001b[0m\u001b[0m\n",
            "\u001b[0;32m/usr/local/lib/python3.7/dist-packages/pandas/core/apply.py\u001b[0m in \u001b[0;36mapply_standard\u001b[0;34m(self)\u001b[0m\n\u001b[1;32m    274\u001b[0m \u001b[0;34m\u001b[0m\u001b[0m\n\u001b[1;32m    275\u001b[0m     \u001b[0;32mdef\u001b[0m \u001b[0mapply_standard\u001b[0m\u001b[0;34m(\u001b[0m\u001b[0mself\u001b[0m\u001b[0;34m)\u001b[0m\u001b[0;34m:\u001b[0m\u001b[0;34m\u001b[0m\u001b[0;34m\u001b[0m\u001b[0m\n\u001b[0;32m--> 276\u001b[0;31m         \u001b[0mresults\u001b[0m\u001b[0;34m,\u001b[0m \u001b[0mres_index\u001b[0m \u001b[0;34m=\u001b[0m \u001b[0mself\u001b[0m\u001b[0;34m.\u001b[0m\u001b[0mapply_series_generator\u001b[0m\u001b[0;34m(\u001b[0m\u001b[0;34m)\u001b[0m\u001b[0;34m\u001b[0m\u001b[0;34m\u001b[0m\u001b[0m\n\u001b[0m\u001b[1;32m    277\u001b[0m \u001b[0;34m\u001b[0m\u001b[0m\n\u001b[1;32m    278\u001b[0m         \u001b[0;31m# wrap results\u001b[0m\u001b[0;34m\u001b[0m\u001b[0;34m\u001b[0m\u001b[0;34m\u001b[0m\u001b[0m\n",
            "\u001b[0;32m/usr/local/lib/python3.7/dist-packages/pandas/core/apply.py\u001b[0m in \u001b[0;36mapply_series_generator\u001b[0;34m(self)\u001b[0m\n\u001b[1;32m    303\u001b[0m                 \u001b[0;32mfor\u001b[0m \u001b[0mi\u001b[0m\u001b[0;34m,\u001b[0m \u001b[0mv\u001b[0m \u001b[0;32min\u001b[0m \u001b[0menumerate\u001b[0m\u001b[0;34m(\u001b[0m\u001b[0mseries_gen\u001b[0m\u001b[0;34m)\u001b[0m\u001b[0;34m:\u001b[0m\u001b[0;34m\u001b[0m\u001b[0;34m\u001b[0m\u001b[0m\n\u001b[1;32m    304\u001b[0m                     \u001b[0;31m# ignore SettingWithCopy here in case the user mutates\u001b[0m\u001b[0;34m\u001b[0m\u001b[0;34m\u001b[0m\u001b[0;34m\u001b[0m\u001b[0m\n\u001b[0;32m--> 305\u001b[0;31m                     \u001b[0mresults\u001b[0m\u001b[0;34m[\u001b[0m\u001b[0mi\u001b[0m\u001b[0;34m]\u001b[0m \u001b[0;34m=\u001b[0m \u001b[0mself\u001b[0m\u001b[0;34m.\u001b[0m\u001b[0mf\u001b[0m\u001b[0;34m(\u001b[0m\u001b[0mv\u001b[0m\u001b[0;34m)\u001b[0m\u001b[0;34m\u001b[0m\u001b[0;34m\u001b[0m\u001b[0m\n\u001b[0m\u001b[1;32m    306\u001b[0m                     \u001b[0;32mif\u001b[0m \u001b[0misinstance\u001b[0m\u001b[0;34m(\u001b[0m\u001b[0mresults\u001b[0m\u001b[0;34m[\u001b[0m\u001b[0mi\u001b[0m\u001b[0;34m]\u001b[0m\u001b[0;34m,\u001b[0m \u001b[0mABCSeries\u001b[0m\u001b[0;34m)\u001b[0m\u001b[0;34m:\u001b[0m\u001b[0;34m\u001b[0m\u001b[0;34m\u001b[0m\u001b[0m\n\u001b[1;32m    307\u001b[0m                         \u001b[0;31m# If we have a view on v, we need to make a copy because\u001b[0m\u001b[0;34m\u001b[0m\u001b[0;34m\u001b[0m\u001b[0;34m\u001b[0m\u001b[0m\n",
            "\u001b[0;32m<ipython-input-48-31226e190339>\u001b[0m in \u001b[0;36mgetScore\u001b[0;34m(row)\u001b[0m\n\u001b[1;32m      1\u001b[0m \u001b[0;32mdef\u001b[0m \u001b[0mgetScore\u001b[0m\u001b[0;34m(\u001b[0m\u001b[0mrow\u001b[0m\u001b[0;34m)\u001b[0m\u001b[0;34m:\u001b[0m\u001b[0;34m\u001b[0m\u001b[0;34m\u001b[0m\u001b[0m\n\u001b[0;32m----> 2\u001b[0;31m     \u001b[0mscore_by_id\u001b[0m \u001b[0;34m=\u001b[0m \u001b[0mdf_credit_score\u001b[0m\u001b[0;34m[\u001b[0m\u001b[0mdf_credit_score\u001b[0m\u001b[0;34m[\u001b[0m\u001b[0;34m'CustomerId'\u001b[0m\u001b[0;34m]\u001b[0m \u001b[0;34m==\u001b[0m \u001b[0mrow\u001b[0m\u001b[0;34m.\u001b[0m\u001b[0mCustomerId\u001b[0m\u001b[0;34m]\u001b[0m\u001b[0;34m\u001b[0m\u001b[0;34m\u001b[0m\u001b[0m\n\u001b[0m\u001b[1;32m      3\u001b[0m     \u001b[0mscore_by_month\u001b[0m \u001b[0;34m=\u001b[0m \u001b[0mscore_by_id\u001b[0m\u001b[0;34m[\u001b[0m\u001b[0;34m(\u001b[0m\u001b[0mscore_by_id\u001b[0m\u001b[0;34m[\u001b[0m\u001b[0;34m'Year'\u001b[0m\u001b[0;34m]\u001b[0m \u001b[0;34m==\u001b[0m \u001b[0mrow\u001b[0m\u001b[0;34m[\u001b[0m\u001b[0;34m'Year'\u001b[0m\u001b[0;34m]\u001b[0m\u001b[0;34m)\u001b[0m \u001b[0;34m&\u001b[0m \u001b[0;34m(\u001b[0m\u001b[0mscore_by_id\u001b[0m\u001b[0;34m[\u001b[0m\u001b[0;34m'Month'\u001b[0m\u001b[0;34m]\u001b[0m \u001b[0;34m==\u001b[0m \u001b[0mrow\u001b[0m\u001b[0;34m[\u001b[0m\u001b[0;34m'Month'\u001b[0m\u001b[0;34m]\u001b[0m\u001b[0;34m)\u001b[0m\u001b[0;34m]\u001b[0m\u001b[0;34m\u001b[0m\u001b[0;34m\u001b[0m\u001b[0m\n\u001b[1;32m      4\u001b[0m     \u001b[0;32mreturn\u001b[0m \u001b[0mscore_by_month\u001b[0m\u001b[0;34m[\u001b[0m\u001b[0;34m'Month'\u001b[0m\u001b[0;34m]\u001b[0m\u001b[0;34m\u001b[0m\u001b[0;34m\u001b[0m\u001b[0m\n",
            "\u001b[0;32m/usr/local/lib/python3.7/dist-packages/pandas/core/generic.py\u001b[0m in \u001b[0;36m__getattr__\u001b[0;34m(self, name)\u001b[0m\n\u001b[1;32m   5139\u001b[0m             \u001b[0;32mif\u001b[0m \u001b[0mself\u001b[0m\u001b[0;34m.\u001b[0m\u001b[0m_info_axis\u001b[0m\u001b[0;34m.\u001b[0m\u001b[0m_can_hold_identifiers_and_holds_name\u001b[0m\u001b[0;34m(\u001b[0m\u001b[0mname\u001b[0m\u001b[0;34m)\u001b[0m\u001b[0;34m:\u001b[0m\u001b[0;34m\u001b[0m\u001b[0;34m\u001b[0m\u001b[0m\n\u001b[1;32m   5140\u001b[0m                 \u001b[0;32mreturn\u001b[0m \u001b[0mself\u001b[0m\u001b[0;34m[\u001b[0m\u001b[0mname\u001b[0m\u001b[0;34m]\u001b[0m\u001b[0;34m\u001b[0m\u001b[0;34m\u001b[0m\u001b[0m\n\u001b[0;32m-> 5141\u001b[0;31m             \u001b[0;32mreturn\u001b[0m \u001b[0mobject\u001b[0m\u001b[0;34m.\u001b[0m\u001b[0m__getattribute__\u001b[0m\u001b[0;34m(\u001b[0m\u001b[0mself\u001b[0m\u001b[0;34m,\u001b[0m \u001b[0mname\u001b[0m\u001b[0;34m)\u001b[0m\u001b[0;34m\u001b[0m\u001b[0;34m\u001b[0m\u001b[0m\n\u001b[0m\u001b[1;32m   5142\u001b[0m \u001b[0;34m\u001b[0m\u001b[0m\n\u001b[1;32m   5143\u001b[0m     \u001b[0;32mdef\u001b[0m \u001b[0m__setattr__\u001b[0m\u001b[0;34m(\u001b[0m\u001b[0mself\u001b[0m\u001b[0;34m,\u001b[0m \u001b[0mname\u001b[0m\u001b[0;34m:\u001b[0m \u001b[0mstr\u001b[0m\u001b[0;34m,\u001b[0m \u001b[0mvalue\u001b[0m\u001b[0;34m)\u001b[0m \u001b[0;34m->\u001b[0m \u001b[0;32mNone\u001b[0m\u001b[0;34m:\u001b[0m\u001b[0;34m\u001b[0m\u001b[0;34m\u001b[0m\u001b[0m\n",
            "\u001b[0;31mAttributeError\u001b[0m: 'Series' object has no attribute 'CustomerId'"
          ]
        }
      ]
    },
    {
      "cell_type": "code",
      "metadata": {
        "colab": {
          "base_uri": "https://localhost:8080/",
          "height": 423
        },
        "id": "K0Nb3KIq39zR",
        "outputId": "81828cc4-1b5e-45eb-aea2-52f5791aa332"
      },
      "source": [
        "df_client_app_date"
      ],
      "execution_count": 53,
      "outputs": [
        {
          "output_type": "execute_result",
          "data": {
            "text/html": [
              "<div>\n",
              "<style scoped>\n",
              "    .dataframe tbody tr th:only-of-type {\n",
              "        vertical-align: middle;\n",
              "    }\n",
              "\n",
              "    .dataframe tbody tr th {\n",
              "        vertical-align: top;\n",
              "    }\n",
              "\n",
              "    .dataframe thead th {\n",
              "        text-align: right;\n",
              "    }\n",
              "</style>\n",
              "<table border=\"1\" class=\"dataframe\">\n",
              "  <thead>\n",
              "    <tr style=\"text-align: right;\">\n",
              "      <th></th>\n",
              "      <th>CustomerId</th>\n",
              "      <th>Month</th>\n",
              "      <th>Year</th>\n",
              "    </tr>\n",
              "  </thead>\n",
              "  <tbody>\n",
              "    <tr>\n",
              "      <th>75</th>\n",
              "      <td>15610711</td>\n",
              "      <td>3</td>\n",
              "      <td>2017</td>\n",
              "    </tr>\n",
              "    <tr>\n",
              "      <th>484</th>\n",
              "      <td>15594720</td>\n",
              "      <td>11</td>\n",
              "      <td>2017</td>\n",
              "    </tr>\n",
              "    <tr>\n",
              "      <th>901</th>\n",
              "      <td>15706552</td>\n",
              "      <td>2</td>\n",
              "      <td>2016</td>\n",
              "    </tr>\n",
              "    <tr>\n",
              "      <th>1440</th>\n",
              "      <td>15594084</td>\n",
              "      <td>3</td>\n",
              "      <td>2016</td>\n",
              "    </tr>\n",
              "    <tr>\n",
              "      <th>1543</th>\n",
              "      <td>15756871</td>\n",
              "      <td>5</td>\n",
              "      <td>2015</td>\n",
              "    </tr>\n",
              "    <tr>\n",
              "      <th>...</th>\n",
              "      <td>...</td>\n",
              "      <td>...</td>\n",
              "      <td>...</td>\n",
              "    </tr>\n",
              "    <tr>\n",
              "      <th>1543267</th>\n",
              "      <td>15613180</td>\n",
              "      <td>2</td>\n",
              "      <td>2016</td>\n",
              "    </tr>\n",
              "    <tr>\n",
              "      <th>1543548</th>\n",
              "      <td>15689152</td>\n",
              "      <td>4</td>\n",
              "      <td>2016</td>\n",
              "    </tr>\n",
              "    <tr>\n",
              "      <th>1543594</th>\n",
              "      <td>15787204</td>\n",
              "      <td>8</td>\n",
              "      <td>2017</td>\n",
              "    </tr>\n",
              "    <tr>\n",
              "      <th>1544413</th>\n",
              "      <td>15778320</td>\n",
              "      <td>10</td>\n",
              "      <td>2016</td>\n",
              "    </tr>\n",
              "    <tr>\n",
              "      <th>1544814</th>\n",
              "      <td>15601172</td>\n",
              "      <td>1</td>\n",
              "      <td>2016</td>\n",
              "    </tr>\n",
              "  </tbody>\n",
              "</table>\n",
              "<p>7963 rows × 3 columns</p>\n",
              "</div>"
            ],
            "text/plain": [
              "         CustomerId  Month  Year\n",
              "75         15610711      3  2017\n",
              "484        15594720     11  2017\n",
              "901        15706552      2  2016\n",
              "1440       15594084      3  2016\n",
              "1543       15756871      5  2015\n",
              "...             ...    ...   ...\n",
              "1543267    15613180      2  2016\n",
              "1543548    15689152      4  2016\n",
              "1543594    15787204      8  2017\n",
              "1544413    15778320     10  2016\n",
              "1544814    15601172      1  2016\n",
              "\n",
              "[7963 rows x 3 columns]"
            ]
          },
          "metadata": {},
          "execution_count": 53
        }
      ]
    },
    {
      "cell_type": "code",
      "metadata": {
        "id": "6klEGwSTD4-Q"
      },
      "source": [
        ""
      ],
      "execution_count": null,
      "outputs": []
    },
    {
      "cell_type": "code",
      "metadata": {
        "id": "sr-SsrHQ_oWv"
      },
      "source": [
        "df_products.head()\n",
        "df_transactions.head()\n",
        "df_credit_score.head()"
      ],
      "execution_count": null,
      "outputs": []
    },
    {
      "cell_type": "code",
      "metadata": {
        "id": "WSzR_QGaAlWv"
      },
      "source": [
        "df_products['CustomerId'].value_counts()"
      ],
      "execution_count": null,
      "outputs": []
    },
    {
      "cell_type": "code",
      "metadata": {
        "id": "EjmOYaZtCzYC"
      },
      "source": [
        "df_transactions[df_transactions['CustomerId'] == 15346641]"
      ],
      "execution_count": null,
      "outputs": []
    },
    {
      "cell_type": "code",
      "metadata": {
        "id": "wxnO6IR2C_Er"
      },
      "source": [
        "df_credit_score[df_credit_score['CustomerId'] == 15610711]"
      ],
      "execution_count": null,
      "outputs": []
    },
    {
      "cell_type": "code",
      "metadata": {
        "id": "4Nj4Q3nzDbLf"
      },
      "source": [
        "df_clients_desired[df_clients_desired['CustomerId'] == 15610711]"
      ],
      "execution_count": null,
      "outputs": []
    },
    {
      "cell_type": "code",
      "metadata": {
        "id": "GtMr0W05EFjP"
      },
      "source": [
        ""
      ],
      "execution_count": null,
      "outputs": []
    },
    {
      "cell_type": "markdown",
      "metadata": {
        "id": "rvYmBZXOqY2t"
      },
      "source": [
        "# 5. Model Data"
      ]
    },
    {
      "cell_type": "markdown",
      "metadata": {
        "id": "rZiul82wqoTX"
      },
      "source": [
        "# 6. Interpreting Data"
      ]
    },
    {
      "cell_type": "code",
      "metadata": {
        "id": "gcggeJKdrfut"
      },
      "source": [
        ""
      ],
      "execution_count": null,
      "outputs": []
    }
  ]
}