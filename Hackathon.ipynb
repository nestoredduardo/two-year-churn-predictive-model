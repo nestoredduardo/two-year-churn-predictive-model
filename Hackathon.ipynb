{
  "nbformat": 4,
  "nbformat_minor": 0,
  "metadata": {
    "colab": {
      "name": "Hackathon.ipynb",
      "provenance": [],
      "collapsed_sections": [],
      "toc_visible": true,
      "mount_file_id": "17tUw1bTSi2jxmC5TFBDhf8IphNeWcTgc",
      "authorship_tag": "ABX9TyO/wDuRs48Xu7mAY9J34Bcr",
      "include_colab_link": true
    },
    "kernelspec": {
      "name": "python3",
      "display_name": "Python 3"
    },
    "language_info": {
      "name": "python"
    }
  },
  "cells": [
    {
      "cell_type": "markdown",
      "metadata": {
        "id": "view-in-github",
        "colab_type": "text"
      },
      "source": [
        "<a href=\"https://colab.research.google.com/github/nestoredduardo/two-year-churn-predictive-model/blob/main/Hackathon.ipynb\" target=\"_parent\"><img src=\"https://colab.research.google.com/assets/colab-badge.svg\" alt=\"Open In Colab\"/></a>"
      ]
    },
    {
      "cell_type": "markdown",
      "metadata": {
        "id": "i_vunFWqlZJW"
      },
      "source": [
        "# **Data Scientist Hackathon**"
      ]
    },
    {
      "cell_type": "markdown",
      "metadata": {
        "id": "WPMRs6ctmHqI"
      },
      "source": [
        "# 1. Overview"
      ]
    },
    {
      "cell_type": "markdown",
      "metadata": {
        "id": "2hSPiW-nEaeM"
      },
      "source": [
        "## Problem\n",
        "\n",
        "* Kin Security has seen that a lot of its clients have canceled “Kin Safety” before two years.\n",
        "* 80% of this cost is assumed by Kin Security in order to be able to match the prices of its competition. \n",
        "* Therefore, if a client leaves before two years, the company is not able to recover their investment.\n",
        "\n"
      ]
    },
    {
      "cell_type": "markdown",
      "metadata": {
        "id": "I_9w6PedFHsZ"
      },
      "source": [
        "## Solution\n",
        "\n",
        "* Develop a classification model that\n",
        "allows them to predict if a client will stay less than two years with the product."
      ]
    },
    {
      "cell_type": "markdown",
      "metadata": {
        "id": "-5uObpKLmby3"
      },
      "source": [
        "# 2. Obtain Data"
      ]
    },
    {
      "cell_type": "code",
      "metadata": {
        "id": "r0DIjyokc3fa"
      },
      "source": [
        "import pandas as pd"
      ],
      "execution_count": 1,
      "outputs": []
    },
    {
      "cell_type": "code",
      "metadata": {
        "id": "dZAqVhr7bWJF"
      },
      "source": [
        "tb_clients_path = '/content/drive/MyDrive/Jobs/KIN/clients_table.txt'\n",
        "tb_credit_score_path = '/content/drive/MyDrive/Jobs/KIN/credit_score_table.txt'\n",
        "tb_products_path = '/content/drive/MyDrive/Jobs/KIN/products_table.txt'\n",
        "tb_transactions_path = '/content/drive/MyDrive/Jobs/KIN/transactions_table.txt'"
      ],
      "execution_count": 2,
      "outputs": []
    },
    {
      "cell_type": "code",
      "metadata": {
        "id": "K6ASB3GVcon-"
      },
      "source": [
        "df_clients = pd.read_csv(tb_clients_path)\n",
        "df_credit_score = pd.read_csv(tb_credit_score_path)\n",
        "df_products = pd.read_csv(tb_products_path)\n",
        "df_transactions = pd.read_csv(tb_transactions_path)"
      ],
      "execution_count": 3,
      "outputs": []
    },
    {
      "cell_type": "markdown",
      "metadata": {
        "id": "dr9EGGR8m6Nr"
      },
      "source": [
        "# 3. Scrub Data"
      ]
    },
    {
      "cell_type": "code",
      "metadata": {
        "colab": {
          "base_uri": "https://localhost:8080/",
          "height": 204
        },
        "id": "0Sgptc4r9bBU",
        "outputId": "23ab7bee-2255-4af0-d438-e4a8c8252f34"
      },
      "source": [
        "df_clients.head()"
      ],
      "execution_count": 4,
      "outputs": [
        {
          "output_type": "execute_result",
          "data": {
            "text/html": [
              "<div>\n",
              "<style scoped>\n",
              "    .dataframe tbody tr th:only-of-type {\n",
              "        vertical-align: middle;\n",
              "    }\n",
              "\n",
              "    .dataframe tbody tr th {\n",
              "        vertical-align: top;\n",
              "    }\n",
              "\n",
              "    .dataframe thead th {\n",
              "        text-align: right;\n",
              "    }\n",
              "</style>\n",
              "<table border=\"1\" class=\"dataframe\">\n",
              "  <thead>\n",
              "    <tr style=\"text-align: right;\">\n",
              "      <th></th>\n",
              "      <th>CustomerId</th>\n",
              "      <th>Surname</th>\n",
              "      <th>Geography</th>\n",
              "      <th>Gender</th>\n",
              "      <th>HasCrCard</th>\n",
              "      <th>IsActiveMember</th>\n",
              "      <th>EstimatedSalary</th>\n",
              "      <th>application_date</th>\n",
              "      <th>exit_date</th>\n",
              "      <th>birth_date</th>\n",
              "    </tr>\n",
              "  </thead>\n",
              "  <tbody>\n",
              "    <tr>\n",
              "      <th>0</th>\n",
              "      <td>15745584</td>\n",
              "      <td>EIRLS</td>\n",
              "      <td>Germany</td>\n",
              "      <td>Female</td>\n",
              "      <td>0.0</td>\n",
              "      <td>1.0</td>\n",
              "      <td>0.00</td>\n",
              "      <td>2018-12-14</td>\n",
              "      <td>NaN</td>\n",
              "      <td>1997-09-18</td>\n",
              "    </tr>\n",
              "    <tr>\n",
              "      <th>1</th>\n",
              "      <td>14990118</td>\n",
              "      <td>MOLOCK</td>\n",
              "      <td>Italy</td>\n",
              "      <td>Male</td>\n",
              "      <td>1.0</td>\n",
              "      <td>0.0</td>\n",
              "      <td>121219.28</td>\n",
              "      <td>2019-01-08</td>\n",
              "      <td>NaN</td>\n",
              "      <td>1980-08-03</td>\n",
              "    </tr>\n",
              "    <tr>\n",
              "      <th>2</th>\n",
              "      <td>14733224</td>\n",
              "      <td>PAWLUCH</td>\n",
              "      <td>Italy</td>\n",
              "      <td>Female</td>\n",
              "      <td>1.0</td>\n",
              "      <td>1.0</td>\n",
              "      <td>159663.59</td>\n",
              "      <td>2012-08-01</td>\n",
              "      <td>2013-08-09</td>\n",
              "      <td>1977-08-19</td>\n",
              "    </tr>\n",
              "    <tr>\n",
              "      <th>3</th>\n",
              "      <td>14648573</td>\n",
              "      <td>NALLS</td>\n",
              "      <td>Spain</td>\n",
              "      <td>Male</td>\n",
              "      <td>1.0</td>\n",
              "      <td>0.0</td>\n",
              "      <td>140827.98</td>\n",
              "      <td>2019-06-19</td>\n",
              "      <td>NaN</td>\n",
              "      <td>1979-02-27</td>\n",
              "    </tr>\n",
              "    <tr>\n",
              "      <th>4</th>\n",
              "      <td>15365443</td>\n",
              "      <td>EBERLE</td>\n",
              "      <td>Italy</td>\n",
              "      <td>Male</td>\n",
              "      <td>1.0</td>\n",
              "      <td>0.0</td>\n",
              "      <td>35521.28</td>\n",
              "      <td>2014-01-26</td>\n",
              "      <td>2015-12-04</td>\n",
              "      <td>1972-12-21</td>\n",
              "    </tr>\n",
              "  </tbody>\n",
              "</table>\n",
              "</div>"
            ],
            "text/plain": [
              "   CustomerId  Surname Geography  ... application_date   exit_date  birth_date\n",
              "0    15745584    EIRLS   Germany  ...       2018-12-14         NaN  1997-09-18\n",
              "1    14990118   MOLOCK     Italy  ...       2019-01-08         NaN  1980-08-03\n",
              "2    14733224  PAWLUCH     Italy  ...       2012-08-01  2013-08-09  1977-08-19\n",
              "3    14648573    NALLS     Spain  ...       2019-06-19         NaN  1979-02-27\n",
              "4    15365443   EBERLE     Italy  ...       2014-01-26  2015-12-04  1972-12-21\n",
              "\n",
              "[5 rows x 10 columns]"
            ]
          },
          "metadata": {},
          "execution_count": 4
        }
      ]
    },
    {
      "cell_type": "code",
      "metadata": {
        "colab": {
          "base_uri": "https://localhost:8080/"
        },
        "id": "-yza4yDu-bLB",
        "outputId": "b89e5160-f7ec-48c9-a6fe-b8f6780e655d"
      },
      "source": [
        "df_clients.shape"
      ],
      "execution_count": 5,
      "outputs": [
        {
          "output_type": "execute_result",
          "data": {
            "text/plain": [
              "(1545000, 10)"
            ]
          },
          "metadata": {},
          "execution_count": 5
        }
      ]
    },
    {
      "cell_type": "markdown",
      "metadata": {
        "id": "3Uo6QLZB-nW3"
      },
      "source": [
        "## Desired Population:\n",
        "a. Contracts from 2015 onwards.\n",
        "\n",
        "b. Operations in Italy were closed this year (2019).\n",
        "\n",
        "\n",
        "c. Take out clients with more than 75% of their info missing.\n",
        "\n",
        "d. Each client should only have one contract in the database, no more.\n",
        "\n",
        "e. Remember that for a client to be eligible, it must have at least two years of information within the company (even if it canceled the product)."
      ]
    },
    {
      "cell_type": "markdown",
      "metadata": {
        "id": "xuBFqfvhAoLL"
      },
      "source": [
        "### a. Contracts from 2015 onwards."
      ]
    },
    {
      "cell_type": "code",
      "metadata": {
        "colab": {
          "base_uri": "https://localhost:8080/"
        },
        "id": "pEfKkm-_A1oV",
        "outputId": "47f00162-7dd0-45e9-d93e-3806a2bd8220"
      },
      "source": [
        "df_clients_desired = df_clients[df_clients['application_date'] >= '2015-01-01']\n",
        "print(df_clients_desired.head())\n",
        "print(df_clients_desired.shape)"
      ],
      "execution_count": 6,
      "outputs": [
        {
          "output_type": "stream",
          "name": "stdout",
          "text": [
            "   CustomerId   Surname Geography  ... application_date   exit_date  birth_date\n",
            "0    15745584     EIRLS   Germany  ...       2018-12-14         NaN  1997-09-18\n",
            "1    14990118    MOLOCK     Italy  ...       2019-01-08         NaN  1980-08-03\n",
            "3    14648573     NALLS     Spain  ...       2019-06-19         NaN  1979-02-27\n",
            "5    15638124  BRASHERS     Italy  ...       2018-02-23         NaN  1983-01-13\n",
            "7    14523468  LASKOSKI     Spain  ...       2017-12-28  2018-11-19  1972-10-30\n",
            "\n",
            "[5 rows x 10 columns]\n",
            "(623242, 10)\n"
          ]
        }
      ]
    },
    {
      "cell_type": "markdown",
      "metadata": {
        "id": "NKWPKEgWDPua"
      },
      "source": [
        "### b. Operations in Italy were closed this year (2019)."
      ]
    },
    {
      "cell_type": "code",
      "metadata": {
        "colab": {
          "base_uri": "https://localhost:8080/"
        },
        "id": "1KHFjYoeDWpr",
        "outputId": "749085a2-55ef-458b-8a68-0ef53822087e"
      },
      "source": [
        "df_clients_desired = df_clients_desired[df_clients_desired['Geography'] != 'Italy']\n",
        "print(df_clients_desired.head())\n",
        "print(df_clients_desired.shape)"
      ],
      "execution_count": 7,
      "outputs": [
        {
          "output_type": "stream",
          "name": "stdout",
          "text": [
            "    CustomerId   Surname Geography  ... application_date   exit_date  birth_date\n",
            "0     15745584     EIRLS   Germany  ...       2018-12-14         NaN  1997-09-18\n",
            "3     14648573     NALLS     Spain  ...       2019-06-19         NaN  1979-02-27\n",
            "7     14523468  LASKOSKI     Spain  ...       2017-12-28  2018-11-19  1972-10-30\n",
            "14    15165393  LABIANCA     Spain  ...       2018-02-22  2019-06-11  1974-07-11\n",
            "15    14611239     DOKKA    France  ...       2019-02-24         NaN  1986-04-26\n",
            "\n",
            "[5 rows x 10 columns]\n",
            "(487424, 10)\n"
          ]
        }
      ]
    },
    {
      "cell_type": "markdown",
      "metadata": {
        "id": "zjRAPjmoD7O0"
      },
      "source": [
        "### c. Take out clients with more than 75% of their info missing."
      ]
    },
    {
      "cell_type": "code",
      "metadata": {
        "colab": {
          "base_uri": "https://localhost:8080/"
        },
        "id": "dEOMX8MSFVlw",
        "outputId": "8bb91d27-668c-44a7-eb84-ec45494d6cb6"
      },
      "source": [
        "df_clients_desired.isna().sum()"
      ],
      "execution_count": 8,
      "outputs": [
        {
          "output_type": "execute_result",
          "data": {
            "text/plain": [
              "CustomerId               0\n",
              "Surname              23362\n",
              "Geography            23349\n",
              "Gender               23349\n",
              "HasCrCard            23349\n",
              "IsActiveMember       23349\n",
              "EstimatedSalary      23349\n",
              "application_date         0\n",
              "exit_date           382626\n",
              "birth_date           23349\n",
              "dtype: int64"
            ]
          },
          "metadata": {},
          "execution_count": 8
        }
      ]
    },
    {
      "cell_type": "code",
      "metadata": {
        "colab": {
          "base_uri": "https://localhost:8080/"
        },
        "id": "Px_b8mbWEFf9",
        "outputId": "da0edaf5-0473-496b-fcf3-520b0fedfbbf"
      },
      "source": [
        "number_info_missing = 75/100 * 9\n",
        "print(number_info_missing)"
      ],
      "execution_count": 9,
      "outputs": [
        {
          "output_type": "stream",
          "name": "stdout",
          "text": [
            "6.75\n"
          ]
        }
      ]
    },
    {
      "cell_type": "code",
      "metadata": {
        "colab": {
          "base_uri": "https://localhost:8080/"
        },
        "id": "IJvAWNMGGKPi",
        "outputId": "4eacbc30-c6c8-4276-d01c-6c09037326b5"
      },
      "source": [
        "df_clients_desired = df_clients_desired[df_clients_desired.isnull().sum(axis=1) < number_info_missing]\n",
        "print(df_clients_desired.head())\n",
        "print(df_clients_desired.shape)"
      ],
      "execution_count": 10,
      "outputs": [
        {
          "output_type": "stream",
          "name": "stdout",
          "text": [
            "    CustomerId   Surname Geography  ... application_date   exit_date  birth_date\n",
            "0     15745584     EIRLS   Germany  ...       2018-12-14         NaN  1997-09-18\n",
            "3     14648573     NALLS     Spain  ...       2019-06-19         NaN  1979-02-27\n",
            "7     14523468  LASKOSKI     Spain  ...       2017-12-28  2018-11-19  1972-10-30\n",
            "14    15165393  LABIANCA     Spain  ...       2018-02-22  2019-06-11  1974-07-11\n",
            "15    14611239     DOKKA    France  ...       2019-02-24         NaN  1986-04-26\n",
            "\n",
            "[5 rows x 10 columns]\n",
            "(464075, 10)\n"
          ]
        }
      ]
    },
    {
      "cell_type": "markdown",
      "metadata": {
        "id": "3Evdx8qjHrdC"
      },
      "source": [
        "### d. Each client should only have one contract in the database, no more."
      ]
    },
    {
      "cell_type": "code",
      "metadata": {
        "colab": {
          "base_uri": "https://localhost:8080/"
        },
        "id": "cgq9QVHXHw9o",
        "outputId": "093a8fab-d2bb-4e92-a9a8-adbcfed43ab0"
      },
      "source": [
        "df_clients_desired.drop_duplicates(subset=['CustomerId'],keep= 'first', inplace= True)\n",
        "print(df_clients_desired.head())\n",
        "print(df_clients_desired.shape)"
      ],
      "execution_count": 11,
      "outputs": [
        {
          "output_type": "stream",
          "name": "stdout",
          "text": [
            "    CustomerId   Surname Geography  ... application_date   exit_date  birth_date\n",
            "0     15745584     EIRLS   Germany  ...       2018-12-14         NaN  1997-09-18\n",
            "3     14648573     NALLS     Spain  ...       2019-06-19         NaN  1979-02-27\n",
            "7     14523468  LASKOSKI     Spain  ...       2017-12-28  2018-11-19  1972-10-30\n",
            "14    15165393  LABIANCA     Spain  ...       2018-02-22  2019-06-11  1974-07-11\n",
            "15    14611239     DOKKA    France  ...       2019-02-24         NaN  1986-04-26\n",
            "\n",
            "[5 rows x 10 columns]\n",
            "(450562, 10)\n"
          ]
        }
      ]
    },
    {
      "cell_type": "markdown",
      "metadata": {
        "id": "_vru3CAULrMm"
      },
      "source": [
        "### e. Remember that for a client to be eligible, it must have at least two years of information within the company (even if it canceled the product)."
      ]
    },
    {
      "cell_type": "code",
      "metadata": {
        "id": "pmm-tVcOL13N"
      },
      "source": [
        "today_date = '30/11/2019'"
      ],
      "execution_count": 12,
      "outputs": []
    },
    {
      "cell_type": "code",
      "metadata": {
        "id": "BRrjYE_6P45n"
      },
      "source": [
        "application_date = pd.to_datetime(df_clients_desired['application_date'])\n",
        "df_clients_desired['exit_date'] = df_clients_desired['exit_date'].fillna(today_date)\n",
        "exit_date = pd.to_datetime(df_clients_desired['exit_date'])"
      ],
      "execution_count": 13,
      "outputs": []
    },
    {
      "cell_type": "code",
      "metadata": {
        "colab": {
          "base_uri": "https://localhost:8080/",
          "height": 204
        },
        "id": "ZnEgd1AbQgSx",
        "outputId": "4bcf6543-d716-4de2-9689-51b5e6295342"
      },
      "source": [
        "df_clients_desired['application_date'] = application_date\n",
        "df_clients_desired['exit_date'] = exit_date\n",
        "df_clients_desired.head()"
      ],
      "execution_count": 14,
      "outputs": [
        {
          "output_type": "execute_result",
          "data": {
            "text/html": [
              "<div>\n",
              "<style scoped>\n",
              "    .dataframe tbody tr th:only-of-type {\n",
              "        vertical-align: middle;\n",
              "    }\n",
              "\n",
              "    .dataframe tbody tr th {\n",
              "        vertical-align: top;\n",
              "    }\n",
              "\n",
              "    .dataframe thead th {\n",
              "        text-align: right;\n",
              "    }\n",
              "</style>\n",
              "<table border=\"1\" class=\"dataframe\">\n",
              "  <thead>\n",
              "    <tr style=\"text-align: right;\">\n",
              "      <th></th>\n",
              "      <th>CustomerId</th>\n",
              "      <th>Surname</th>\n",
              "      <th>Geography</th>\n",
              "      <th>Gender</th>\n",
              "      <th>HasCrCard</th>\n",
              "      <th>IsActiveMember</th>\n",
              "      <th>EstimatedSalary</th>\n",
              "      <th>application_date</th>\n",
              "      <th>exit_date</th>\n",
              "      <th>birth_date</th>\n",
              "    </tr>\n",
              "  </thead>\n",
              "  <tbody>\n",
              "    <tr>\n",
              "      <th>0</th>\n",
              "      <td>15745584</td>\n",
              "      <td>EIRLS</td>\n",
              "      <td>Germany</td>\n",
              "      <td>Female</td>\n",
              "      <td>0.0</td>\n",
              "      <td>1.0</td>\n",
              "      <td>0.00</td>\n",
              "      <td>2018-12-14</td>\n",
              "      <td>2019-11-30</td>\n",
              "      <td>1997-09-18</td>\n",
              "    </tr>\n",
              "    <tr>\n",
              "      <th>3</th>\n",
              "      <td>14648573</td>\n",
              "      <td>NALLS</td>\n",
              "      <td>Spain</td>\n",
              "      <td>Male</td>\n",
              "      <td>1.0</td>\n",
              "      <td>0.0</td>\n",
              "      <td>140827.98</td>\n",
              "      <td>2019-06-19</td>\n",
              "      <td>2019-11-30</td>\n",
              "      <td>1979-02-27</td>\n",
              "    </tr>\n",
              "    <tr>\n",
              "      <th>7</th>\n",
              "      <td>14523468</td>\n",
              "      <td>LASKOSKI</td>\n",
              "      <td>Spain</td>\n",
              "      <td>Female</td>\n",
              "      <td>1.0</td>\n",
              "      <td>0.0</td>\n",
              "      <td>158161.23</td>\n",
              "      <td>2017-12-28</td>\n",
              "      <td>2018-11-19</td>\n",
              "      <td>1972-10-30</td>\n",
              "    </tr>\n",
              "    <tr>\n",
              "      <th>14</th>\n",
              "      <td>15165393</td>\n",
              "      <td>LABIANCA</td>\n",
              "      <td>Spain</td>\n",
              "      <td>Male</td>\n",
              "      <td>1.0</td>\n",
              "      <td>1.0</td>\n",
              "      <td>2612.65</td>\n",
              "      <td>2018-02-22</td>\n",
              "      <td>2019-06-11</td>\n",
              "      <td>1974-07-11</td>\n",
              "    </tr>\n",
              "    <tr>\n",
              "      <th>15</th>\n",
              "      <td>14611239</td>\n",
              "      <td>DOKKA</td>\n",
              "      <td>France</td>\n",
              "      <td>Male</td>\n",
              "      <td>0.0</td>\n",
              "      <td>1.0</td>\n",
              "      <td>72210.60</td>\n",
              "      <td>2019-02-24</td>\n",
              "      <td>2019-11-30</td>\n",
              "      <td>1986-04-26</td>\n",
              "    </tr>\n",
              "  </tbody>\n",
              "</table>\n",
              "</div>"
            ],
            "text/plain": [
              "    CustomerId   Surname Geography  ... application_date  exit_date  birth_date\n",
              "0     15745584     EIRLS   Germany  ...       2018-12-14 2019-11-30  1997-09-18\n",
              "3     14648573     NALLS     Spain  ...       2019-06-19 2019-11-30  1979-02-27\n",
              "7     14523468  LASKOSKI     Spain  ...       2017-12-28 2018-11-19  1972-10-30\n",
              "14    15165393  LABIANCA     Spain  ...       2018-02-22 2019-06-11  1974-07-11\n",
              "15    14611239     DOKKA    France  ...       2019-02-24 2019-11-30  1986-04-26\n",
              "\n",
              "[5 rows x 10 columns]"
            ]
          },
          "metadata": {},
          "execution_count": 14
        }
      ]
    },
    {
      "cell_type": "code",
      "metadata": {
        "id": "9eBRWLj7OI6Q"
      },
      "source": [
        "df_clients_desired = df_clients_desired[df_clients_desired['exit_date'] - df_clients_desired['application_date'] >= '730 days']"
      ],
      "execution_count": 15,
      "outputs": []
    },
    {
      "cell_type": "code",
      "metadata": {
        "colab": {
          "base_uri": "https://localhost:8080/"
        },
        "id": "gkDWPrew-3eE",
        "outputId": "9a126eb3-377e-4e08-d7cd-b37db82a0403"
      },
      "source": [
        "print(df_clients_desired.head())\n",
        "print(df_clients_desired.shape)"
      ],
      "execution_count": 16,
      "outputs": [
        {
          "output_type": "stream",
          "name": "stdout",
          "text": [
            "      CustomerId        Surname  ...  exit_date  birth_date\n",
            "75      15610711       Eluemuno  ... 2019-11-27  1976-10-21\n",
            "484     15594720          Scott  ... 2019-11-30  1982-05-14\n",
            "901     15706552  Odinakachukwu  ... 2019-10-02  1979-09-09\n",
            "1440    15594084       Anderson  ... 2019-09-07  1993-06-08\n",
            "1543    15756871          Capon  ... 2018-04-29  1976-04-20\n",
            "\n",
            "[5 rows x 10 columns]\n",
            "(7963, 10)\n"
          ]
        }
      ]
    },
    {
      "cell_type": "markdown",
      "metadata": {
        "id": "_5dAkA6RpiSe"
      },
      "source": [
        "# 4. Explore Data"
      ]
    },
    {
      "cell_type": "markdown",
      "metadata": {
        "id": "61H9OQS5HV21"
      },
      "source": [
        "### Age"
      ]
    },
    {
      "cell_type": "code",
      "metadata": {
        "colab": {
          "base_uri": "https://localhost:8080/"
        },
        "id": "20fmk6UEu9hS",
        "outputId": "da94affe-0384-4a56-997f-804c60d788d5"
      },
      "source": [
        "y = pd.DataFrame(df_clients_desired['IsActiveMember'])\n",
        "y['IsActiveMember'].value_counts(normalize = True) *100"
      ],
      "execution_count": 17,
      "outputs": [
        {
          "output_type": "execute_result",
          "data": {
            "text/plain": [
              "1.0    55.456486\n",
              "0.0    44.543514\n",
              "Name: IsActiveMember, dtype: float64"
            ]
          },
          "metadata": {},
          "execution_count": 17
        }
      ]
    },
    {
      "cell_type": "code",
      "metadata": {
        "colab": {
          "base_uri": "https://localhost:8080/"
        },
        "id": "b_ki5_c_8oJ6",
        "outputId": "a63d064c-6a16-47ba-da33-04e342fc569e"
      },
      "source": [
        "y['IsActiveMember'].value_counts()"
      ],
      "execution_count": 18,
      "outputs": [
        {
          "output_type": "execute_result",
          "data": {
            "text/plain": [
              "1.0    4416\n",
              "0.0    3547\n",
              "Name: IsActiveMember, dtype: int64"
            ]
          },
          "metadata": {},
          "execution_count": 18
        }
      ]
    },
    {
      "cell_type": "code",
      "metadata": {
        "id": "RD_oO9BNGcbD"
      },
      "source": [
        "dataset = df_clients_desired[['CustomerId', 'EstimatedSalary', 'HasCrCard']]\n",
        "df_dataset = pd.DataFrame(data = dataset)"
      ],
      "execution_count": 19,
      "outputs": []
    },
    {
      "cell_type": "code",
      "metadata": {
        "id": "arjinw8IHbeC"
      },
      "source": [
        "from datetime import datetime, date\n",
        "\n",
        "def age(born):\n",
        "    born = datetime.strptime(born, \"%Y-%m-%d\").date()\n",
        "    today = date.today()\n",
        "    return today.year - born.year - ((today.month, \n",
        "                                      today.day) < (born.month, \n",
        "                                                    born.day))"
      ],
      "execution_count": 20,
      "outputs": []
    },
    {
      "cell_type": "code",
      "metadata": {
        "id": "5cM0jzRcHk8B"
      },
      "source": [
        "df_dataset['Age'] = df_clients_desired['birth_date'].apply(age)"
      ],
      "execution_count": 21,
      "outputs": []
    },
    {
      "cell_type": "code",
      "metadata": {
        "id": "Q2T6Athq4u0L"
      },
      "source": [
        "df_dataset = df_dataset.set_index('CustomerId')"
      ],
      "execution_count": 22,
      "outputs": []
    },
    {
      "cell_type": "markdown",
      "metadata": {
        "id": "Mj5dogA8InWR"
      },
      "source": [
        "### Number of products"
      ]
    },
    {
      "cell_type": "code",
      "metadata": {
        "colab": {
          "base_uri": "https://localhost:8080/",
          "height": 450
        },
        "id": "Vmvi4zfFOvd6",
        "outputId": "d42d88ca-3a45-4ed0-c424-b73f3108cdaa"
      },
      "source": [
        "df_products.set_index('CustomerId')"
      ],
      "execution_count": 23,
      "outputs": [
        {
          "output_type": "execute_result",
          "data": {
            "text/html": [
              "<div>\n",
              "<style scoped>\n",
              "    .dataframe tbody tr th:only-of-type {\n",
              "        vertical-align: middle;\n",
              "    }\n",
              "\n",
              "    .dataframe tbody tr th {\n",
              "        vertical-align: top;\n",
              "    }\n",
              "\n",
              "    .dataframe thead th {\n",
              "        text-align: right;\n",
              "    }\n",
              "</style>\n",
              "<table border=\"1\" class=\"dataframe\">\n",
              "  <thead>\n",
              "    <tr style=\"text-align: right;\">\n",
              "      <th></th>\n",
              "      <th>ContractId</th>\n",
              "      <th>Products</th>\n",
              "    </tr>\n",
              "    <tr>\n",
              "      <th>CustomerId</th>\n",
              "      <th></th>\n",
              "      <th></th>\n",
              "    </tr>\n",
              "  </thead>\n",
              "  <tbody>\n",
              "    <tr>\n",
              "      <th>14993808</th>\n",
              "      <td>5Xo9sCduOGo5EhBYhzKrSlLIA</td>\n",
              "      <td>Product B</td>\n",
              "    </tr>\n",
              "    <tr>\n",
              "      <th>15560417</th>\n",
              "      <td>3nQbqbnpTeSkYIJWT1UDe1GZ1</td>\n",
              "      <td>Product B</td>\n",
              "    </tr>\n",
              "    <tr>\n",
              "      <th>15406428</th>\n",
              "      <td>PD9KwDPOwyJWO6LJKPGBbkrCz</td>\n",
              "      <td>Product C</td>\n",
              "    </tr>\n",
              "    <tr>\n",
              "      <th>15604313</th>\n",
              "      <td>IhS7pz8lu07LCZSqYNlL0fuLP</td>\n",
              "      <td>Product B</td>\n",
              "    </tr>\n",
              "    <tr>\n",
              "      <th>14952409</th>\n",
              "      <td>ftUey4oVmkZj8RaBVFH6SNzVM</td>\n",
              "      <td>Product C</td>\n",
              "    </tr>\n",
              "    <tr>\n",
              "      <th>...</th>\n",
              "      <td>...</td>\n",
              "      <td>...</td>\n",
              "    </tr>\n",
              "    <tr>\n",
              "      <th>14723530</th>\n",
              "      <td>gG68mjjODmTNM21QPEeAKr0DZ</td>\n",
              "      <td>Product C</td>\n",
              "    </tr>\n",
              "    <tr>\n",
              "      <th>15837225</th>\n",
              "      <td>yWf0PHzqSjJvadbdMji4XtX5T</td>\n",
              "      <td>Product D</td>\n",
              "    </tr>\n",
              "    <tr>\n",
              "      <th>14661828</th>\n",
              "      <td>5kerYoMKP03ebWSrloZBjmWKz</td>\n",
              "      <td>Product C</td>\n",
              "    </tr>\n",
              "    <tr>\n",
              "      <th>15559545</th>\n",
              "      <td>CdnDnTfN3YYOozLACqf9fBak1</td>\n",
              "      <td>Product D</td>\n",
              "    </tr>\n",
              "    <tr>\n",
              "      <th>15656710</th>\n",
              "      <td>7LZ04fV1Avd2JuWK7KcQvI6eu</td>\n",
              "      <td>Product B</td>\n",
              "    </tr>\n",
              "  </tbody>\n",
              "</table>\n",
              "<p>3739192 rows × 2 columns</p>\n",
              "</div>"
            ],
            "text/plain": [
              "                           ContractId   Products\n",
              "CustomerId                                      \n",
              "14993808    5Xo9sCduOGo5EhBYhzKrSlLIA  Product B\n",
              "15560417    3nQbqbnpTeSkYIJWT1UDe1GZ1  Product B\n",
              "15406428    PD9KwDPOwyJWO6LJKPGBbkrCz  Product C\n",
              "15604313    IhS7pz8lu07LCZSqYNlL0fuLP  Product B\n",
              "14952409    ftUey4oVmkZj8RaBVFH6SNzVM  Product C\n",
              "...                               ...        ...\n",
              "14723530    gG68mjjODmTNM21QPEeAKr0DZ  Product C\n",
              "15837225    yWf0PHzqSjJvadbdMji4XtX5T  Product D\n",
              "14661828    5kerYoMKP03ebWSrloZBjmWKz  Product C\n",
              "15559545    CdnDnTfN3YYOozLACqf9fBak1  Product D\n",
              "15656710    7LZ04fV1Avd2JuWK7KcQvI6eu  Product B\n",
              "\n",
              "[3739192 rows x 2 columns]"
            ]
          },
          "metadata": {},
          "execution_count": 23
        }
      ]
    },
    {
      "cell_type": "code",
      "metadata": {
        "id": "8rvPGoCsIsVA"
      },
      "source": [
        "products_count = df_products['CustomerId'].value_counts()"
      ],
      "execution_count": 24,
      "outputs": []
    },
    {
      "cell_type": "code",
      "metadata": {
        "id": "H_NrAW7C25TX"
      },
      "source": [
        "df_products_count = pd.DataFrame(data=products_count)"
      ],
      "execution_count": 25,
      "outputs": []
    },
    {
      "cell_type": "code",
      "metadata": {
        "id": "EFaZ4FU-zI3b"
      },
      "source": [
        "df_products_count = df_products_count.loc[df_dataset.index,:]"
      ],
      "execution_count": 26,
      "outputs": []
    },
    {
      "cell_type": "code",
      "metadata": {
        "id": "hXd_7bYlJqFK"
      },
      "source": [
        "df_products_count = df_products_count.rename(columns={'CustomerId' : 'NumProducts'})"
      ],
      "execution_count": 27,
      "outputs": []
    },
    {
      "cell_type": "code",
      "metadata": {
        "colab": {
          "base_uri": "https://localhost:8080/",
          "height": 450
        },
        "id": "PsyOVRfnLif8",
        "outputId": "38ec0486-b41d-45dc-de9c-5a6450467596"
      },
      "source": [
        "df_products_count"
      ],
      "execution_count": 28,
      "outputs": [
        {
          "output_type": "execute_result",
          "data": {
            "text/html": [
              "<div>\n",
              "<style scoped>\n",
              "    .dataframe tbody tr th:only-of-type {\n",
              "        vertical-align: middle;\n",
              "    }\n",
              "\n",
              "    .dataframe tbody tr th {\n",
              "        vertical-align: top;\n",
              "    }\n",
              "\n",
              "    .dataframe thead th {\n",
              "        text-align: right;\n",
              "    }\n",
              "</style>\n",
              "<table border=\"1\" class=\"dataframe\">\n",
              "  <thead>\n",
              "    <tr style=\"text-align: right;\">\n",
              "      <th></th>\n",
              "      <th>NumProducts</th>\n",
              "    </tr>\n",
              "    <tr>\n",
              "      <th>CustomerId</th>\n",
              "      <th></th>\n",
              "    </tr>\n",
              "  </thead>\n",
              "  <tbody>\n",
              "    <tr>\n",
              "      <th>15610711</th>\n",
              "      <td>1</td>\n",
              "    </tr>\n",
              "    <tr>\n",
              "      <th>15594720</th>\n",
              "      <td>2</td>\n",
              "    </tr>\n",
              "    <tr>\n",
              "      <th>15706552</th>\n",
              "      <td>1</td>\n",
              "    </tr>\n",
              "    <tr>\n",
              "      <th>15594084</th>\n",
              "      <td>2</td>\n",
              "    </tr>\n",
              "    <tr>\n",
              "      <th>15756871</th>\n",
              "      <td>1</td>\n",
              "    </tr>\n",
              "    <tr>\n",
              "      <th>...</th>\n",
              "      <td>...</td>\n",
              "    </tr>\n",
              "    <tr>\n",
              "      <th>15613180</th>\n",
              "      <td>1</td>\n",
              "    </tr>\n",
              "    <tr>\n",
              "      <th>15689152</th>\n",
              "      <td>1</td>\n",
              "    </tr>\n",
              "    <tr>\n",
              "      <th>15787204</th>\n",
              "      <td>1</td>\n",
              "    </tr>\n",
              "    <tr>\n",
              "      <th>15778320</th>\n",
              "      <td>1</td>\n",
              "    </tr>\n",
              "    <tr>\n",
              "      <th>15601172</th>\n",
              "      <td>1</td>\n",
              "    </tr>\n",
              "  </tbody>\n",
              "</table>\n",
              "<p>7963 rows × 1 columns</p>\n",
              "</div>"
            ],
            "text/plain": [
              "            NumProducts\n",
              "CustomerId             \n",
              "15610711              1\n",
              "15594720              2\n",
              "15706552              1\n",
              "15594084              2\n",
              "15756871              1\n",
              "...                 ...\n",
              "15613180              1\n",
              "15689152              1\n",
              "15787204              1\n",
              "15778320              1\n",
              "15601172              1\n",
              "\n",
              "[7963 rows x 1 columns]"
            ]
          },
          "metadata": {},
          "execution_count": 28
        }
      ]
    },
    {
      "cell_type": "markdown",
      "metadata": {
        "id": "LsJs_c0oLoqc"
      },
      "source": [
        "### Balance at the moment of application"
      ]
    },
    {
      "cell_type": "code",
      "metadata": {
        "id": "yzkN1dm7z6mT"
      },
      "source": [
        "df_transactions = df_transactions.set_index('CustomerId')"
      ],
      "execution_count": 29,
      "outputs": []
    },
    {
      "cell_type": "code",
      "metadata": {
        "id": "MATGfqJR0FbI"
      },
      "source": [
        "df_transactions = df_transactions.loc[df_dataset.index,:]"
      ],
      "execution_count": 30,
      "outputs": []
    },
    {
      "cell_type": "code",
      "metadata": {
        "colab": {
          "base_uri": "https://localhost:8080/",
          "height": 450
        },
        "id": "4RBFY8dzLvBg",
        "outputId": "05ff9e37-8f47-44ca-f5f0-614aa9c557af"
      },
      "source": [
        "df_balance = df_transactions.groupby('CustomerId', as_index= True)[['Value']].sum()\n",
        "df_balance"
      ],
      "execution_count": 31,
      "outputs": [
        {
          "output_type": "execute_result",
          "data": {
            "text/html": [
              "<div>\n",
              "<style scoped>\n",
              "    .dataframe tbody tr th:only-of-type {\n",
              "        vertical-align: middle;\n",
              "    }\n",
              "\n",
              "    .dataframe tbody tr th {\n",
              "        vertical-align: top;\n",
              "    }\n",
              "\n",
              "    .dataframe thead th {\n",
              "        text-align: right;\n",
              "    }\n",
              "</style>\n",
              "<table border=\"1\" class=\"dataframe\">\n",
              "  <thead>\n",
              "    <tr style=\"text-align: right;\">\n",
              "      <th></th>\n",
              "      <th>Value</th>\n",
              "    </tr>\n",
              "    <tr>\n",
              "      <th>CustomerId</th>\n",
              "      <th></th>\n",
              "    </tr>\n",
              "  </thead>\n",
              "  <tbody>\n",
              "    <tr>\n",
              "      <th>15565701</th>\n",
              "      <td>1.619939e+05</td>\n",
              "    </tr>\n",
              "    <tr>\n",
              "      <th>15565714</th>\n",
              "      <td>6.443006e+04</td>\n",
              "    </tr>\n",
              "    <tr>\n",
              "      <th>15565779</th>\n",
              "      <td>5.780932e+04</td>\n",
              "    </tr>\n",
              "    <tr>\n",
              "      <th>15565796</th>\n",
              "      <td>9.604855e+04</td>\n",
              "    </tr>\n",
              "    <tr>\n",
              "      <th>15565806</th>\n",
              "      <td>-4.547474e-13</td>\n",
              "    </tr>\n",
              "    <tr>\n",
              "      <th>...</th>\n",
              "      <td>...</td>\n",
              "    </tr>\n",
              "    <tr>\n",
              "      <th>15815615</th>\n",
              "      <td>1.419521e+05</td>\n",
              "    </tr>\n",
              "    <tr>\n",
              "      <th>15815628</th>\n",
              "      <td>1.138999e+05</td>\n",
              "    </tr>\n",
              "    <tr>\n",
              "      <th>15815645</th>\n",
              "      <td>1.523037e+05</td>\n",
              "    </tr>\n",
              "    <tr>\n",
              "      <th>15815660</th>\n",
              "      <td>1.541395e+05</td>\n",
              "    </tr>\n",
              "    <tr>\n",
              "      <th>15815690</th>\n",
              "      <td>1.133485e+05</td>\n",
              "    </tr>\n",
              "  </tbody>\n",
              "</table>\n",
              "<p>7963 rows × 1 columns</p>\n",
              "</div>"
            ],
            "text/plain": [
              "                   Value\n",
              "CustomerId              \n",
              "15565701    1.619939e+05\n",
              "15565714    6.443006e+04\n",
              "15565779    5.780932e+04\n",
              "15565796    9.604855e+04\n",
              "15565806   -4.547474e-13\n",
              "...                  ...\n",
              "15815615    1.419521e+05\n",
              "15815628    1.138999e+05\n",
              "15815645    1.523037e+05\n",
              "15815660    1.541395e+05\n",
              "15815690    1.133485e+05\n",
              "\n",
              "[7963 rows x 1 columns]"
            ]
          },
          "metadata": {},
          "execution_count": 31
        }
      ]
    },
    {
      "cell_type": "code",
      "metadata": {
        "id": "8CmxfS3M67H6"
      },
      "source": [
        "df_balance = df_balance.rename(columns={'Value' : 'Balance'})"
      ],
      "execution_count": 32,
      "outputs": []
    },
    {
      "cell_type": "markdown",
      "metadata": {
        "id": "vg8cDZuUXK2s"
      },
      "source": [
        "### Credit bureau Scores"
      ]
    },
    {
      "cell_type": "code",
      "metadata": {
        "id": "FflGbLNnYE-a"
      },
      "source": [
        "def get_month(appDate):\n",
        "    return appDate.month, appDate.year"
      ],
      "execution_count": 33,
      "outputs": []
    },
    {
      "cell_type": "code",
      "metadata": {
        "id": "NOJkiBe7XTtJ"
      },
      "source": [
        "df_client_app_date = pd.DataFrame(df_clients_desired['CustomerId'])\n",
        "df_client_app_date['Month'], df_client_app_date['Year'] = zip(*df_clients_desired['application_date'].apply(get_month))\n",
        "df_client_app_date = df_client_app_date.set_index('CustomerId')"
      ],
      "execution_count": 34,
      "outputs": []
    },
    {
      "cell_type": "code",
      "metadata": {
        "id": "bXaTVavz8hh2"
      },
      "source": [
        "df_credit_score = df_credit_score.set_index('CustomerId')"
      ],
      "execution_count": 35,
      "outputs": []
    },
    {
      "cell_type": "code",
      "metadata": {
        "id": "LKnak8I68Znd"
      },
      "source": [
        "df_credit_score = df_credit_score.loc[df_dataset.index,:]"
      ],
      "execution_count": 36,
      "outputs": []
    },
    {
      "cell_type": "code",
      "metadata": {
        "id": "Ks_YD4AX2CKl"
      },
      "source": [
        "df_credit_score_date = pd.to_datetime(df_credit_score['Date'])\n",
        "df_credit_score['Date'] = df_credit_score_date\n",
        "df_credit_score['Month'], df_credit_score['Year']= zip(*df_credit_score['Date'].apply(get_month))"
      ],
      "execution_count": 37,
      "outputs": []
    },
    {
      "cell_type": "code",
      "metadata": {
        "id": "2SpBLmm24wlf"
      },
      "source": [
        "def getScore(row):\n",
        "    score_by_id = df_credit_score[df_credit_score.index == row.name]\n",
        "    score_by_month = score_by_id[(score_by_id['Year'] == row['Year']) & (score_by_id['Month'] == row['Month'])]\n",
        "    return score_by_month['Score'].values[0]"
      ],
      "execution_count": 38,
      "outputs": []
    },
    {
      "cell_type": "code",
      "metadata": {
        "id": "C94x2FdN3XOJ"
      },
      "source": [
        "score = df_client_app_date.apply(getScore, axis=1, )"
      ],
      "execution_count": 39,
      "outputs": []
    },
    {
      "cell_type": "code",
      "metadata": {
        "id": "IfDvGKSQoUOo"
      },
      "source": [
        "df_score = pd.DataFrame(score)\n",
        "df_score = df_score.rename(columns={0 : 'Score'})"
      ],
      "execution_count": 40,
      "outputs": []
    },
    {
      "cell_type": "markdown",
      "metadata": {
        "id": "9foh85dpp8-q"
      },
      "source": [
        "# Joining Data"
      ]
    },
    {
      "cell_type": "code",
      "metadata": {
        "id": "mltnIdNqqIv_"
      },
      "source": [
        "X = pd.concat([df_dataset, df_products_count, df_balance, df_score], axis=1, join='inner')"
      ],
      "execution_count": 41,
      "outputs": []
    },
    {
      "cell_type": "code",
      "metadata": {
        "colab": {
          "base_uri": "https://localhost:8080/",
          "height": 297
        },
        "id": "Fdcma8WPtj5Z",
        "outputId": "0ae7dc33-36ee-43c7-e810-a9dcd18a4319"
      },
      "source": [
        "X.describe()"
      ],
      "execution_count": 42,
      "outputs": [
        {
          "output_type": "execute_result",
          "data": {
            "text/html": [
              "<div>\n",
              "<style scoped>\n",
              "    .dataframe tbody tr th:only-of-type {\n",
              "        vertical-align: middle;\n",
              "    }\n",
              "\n",
              "    .dataframe tbody tr th {\n",
              "        vertical-align: top;\n",
              "    }\n",
              "\n",
              "    .dataframe thead th {\n",
              "        text-align: right;\n",
              "    }\n",
              "</style>\n",
              "<table border=\"1\" class=\"dataframe\">\n",
              "  <thead>\n",
              "    <tr style=\"text-align: right;\">\n",
              "      <th></th>\n",
              "      <th>EstimatedSalary</th>\n",
              "      <th>HasCrCard</th>\n",
              "      <th>Age</th>\n",
              "      <th>NumProducts</th>\n",
              "      <th>Balance</th>\n",
              "      <th>Score</th>\n",
              "    </tr>\n",
              "  </thead>\n",
              "  <tbody>\n",
              "    <tr>\n",
              "      <th>count</th>\n",
              "      <td>7963.000000</td>\n",
              "      <td>7963.000000</td>\n",
              "      <td>7963.000000</td>\n",
              "      <td>7963.000000</td>\n",
              "      <td>7.963000e+03</td>\n",
              "      <td>7963.000000</td>\n",
              "    </tr>\n",
              "    <tr>\n",
              "      <th>mean</th>\n",
              "      <td>99738.391772</td>\n",
              "      <td>0.707146</td>\n",
              "      <td>42.684918</td>\n",
              "      <td>1.544267</td>\n",
              "      <td>7.274530e+04</td>\n",
              "      <td>651.853196</td>\n",
              "    </tr>\n",
              "    <tr>\n",
              "      <th>std</th>\n",
              "      <td>57405.586966</td>\n",
              "      <td>0.455101</td>\n",
              "      <td>10.175047</td>\n",
              "      <td>0.509536</td>\n",
              "      <td>6.284804e+04</td>\n",
              "      <td>95.653837</td>\n",
              "    </tr>\n",
              "    <tr>\n",
              "      <th>min</th>\n",
              "      <td>90.070000</td>\n",
              "      <td>0.000000</td>\n",
              "      <td>21.000000</td>\n",
              "      <td>1.000000</td>\n",
              "      <td>-1.477929e-12</td>\n",
              "      <td>405.000000</td>\n",
              "    </tr>\n",
              "    <tr>\n",
              "      <th>25%</th>\n",
              "      <td>50783.490000</td>\n",
              "      <td>0.000000</td>\n",
              "      <td>36.000000</td>\n",
              "      <td>1.000000</td>\n",
              "      <td>0.000000e+00</td>\n",
              "      <td>585.000000</td>\n",
              "    </tr>\n",
              "    <tr>\n",
              "      <th>50%</th>\n",
              "      <td>99645.040000</td>\n",
              "      <td>1.000000</td>\n",
              "      <td>41.000000</td>\n",
              "      <td>2.000000</td>\n",
              "      <td>9.207268e+04</td>\n",
              "      <td>653.000000</td>\n",
              "    </tr>\n",
              "    <tr>\n",
              "      <th>75%</th>\n",
              "      <td>148609.955000</td>\n",
              "      <td>1.000000</td>\n",
              "      <td>47.000000</td>\n",
              "      <td>2.000000</td>\n",
              "      <td>1.264103e+05</td>\n",
              "      <td>718.000000</td>\n",
              "    </tr>\n",
              "    <tr>\n",
              "      <th>max</th>\n",
              "      <td>199992.480000</td>\n",
              "      <td>1.000000</td>\n",
              "      <td>98.000000</td>\n",
              "      <td>3.000000</td>\n",
              "      <td>2.215328e+05</td>\n",
              "      <td>850.000000</td>\n",
              "    </tr>\n",
              "  </tbody>\n",
              "</table>\n",
              "</div>"
            ],
            "text/plain": [
              "       EstimatedSalary    HasCrCard  ...       Balance        Score\n",
              "count      7963.000000  7963.000000  ...  7.963000e+03  7963.000000\n",
              "mean      99738.391772     0.707146  ...  7.274530e+04   651.853196\n",
              "std       57405.586966     0.455101  ...  6.284804e+04    95.653837\n",
              "min          90.070000     0.000000  ... -1.477929e-12   405.000000\n",
              "25%       50783.490000     0.000000  ...  0.000000e+00   585.000000\n",
              "50%       99645.040000     1.000000  ...  9.207268e+04   653.000000\n",
              "75%      148609.955000     1.000000  ...  1.264103e+05   718.000000\n",
              "max      199992.480000     1.000000  ...  2.215328e+05   850.000000\n",
              "\n",
              "[8 rows x 6 columns]"
            ]
          },
          "metadata": {},
          "execution_count": 42
        }
      ]
    },
    {
      "cell_type": "markdown",
      "metadata": {
        "id": "rvYmBZXOqY2t"
      },
      "source": [
        "# 5. Model Data"
      ]
    },
    {
      "cell_type": "code",
      "metadata": {
        "colab": {
          "base_uri": "https://localhost:8080/"
        },
        "id": "3qQfxdIyv1Am",
        "outputId": "c1c82cb5-04e1-4855-c7aa-0c2c1df8391f"
      },
      "source": [
        "from sklearn.preprocessing import LabelEncoder\n",
        "from sklearn.preprocessing import StandardScaler\n",
        "from sklearn.model_selection import train_test_split\n",
        "from imblearn.under_sampling import RandomUnderSampler\n",
        "from sklearn.metrics import accuracy_score, f1_score, confusion_matrix, classification_report\n",
        "from sklearn.svm import SVC\n",
        "from sklearn.linear_model import LogisticRegression\n",
        "from xgboost import XGBClassifier, plot_importance\n",
        "from sklearn.model_selection import cross_validate\n",
        "from sklearn.model_selection import GridSearchCV\n",
        "import matplotlib.pyplot as plt\n",
        "import seaborn as sns; sns.set()"
      ],
      "execution_count": 43,
      "outputs": [
        {
          "output_type": "stream",
          "name": "stderr",
          "text": [
            "/usr/local/lib/python3.7/dist-packages/sklearn/externals/six.py:31: FutureWarning: The module is deprecated in version 0.21 and will be removed in version 0.23 since we've dropped support for Python 2.7. Please rely on the official version of six (https://pypi.org/project/six/).\n",
            "  \"(https://pypi.org/project/six/).\", FutureWarning)\n",
            "/usr/local/lib/python3.7/dist-packages/sklearn/utils/deprecation.py:144: FutureWarning: The sklearn.neighbors.base module is  deprecated in version 0.22 and will be removed in version 0.24. The corresponding classes / functions should instead be imported from sklearn.neighbors. Anything that cannot be imported from sklearn.neighbors is now part of the private API.\n",
            "  warnings.warn(message, FutureWarning)\n"
          ]
        }
      ]
    },
    {
      "cell_type": "code",
      "metadata": {
        "id": "Biml3rRiylin"
      },
      "source": [
        "X_train, X_test, y_train, y_test = train_test_split(X, y,test_size=0.10)"
      ],
      "execution_count": 44,
      "outputs": []
    },
    {
      "cell_type": "markdown",
      "metadata": {
        "id": "PLHUn7ZNFvJE"
      },
      "source": [
        "To evaluate the effectiveness of these models, we could use Precision or Recall. Precision will give us the proportion of positive identifications that were indeed correct, while recall will determine the proportion of real positives that were correctly identified.\n",
        "\n",
        "Considering the problem we are trying to solve, Recall will be more suitable for this study, as the objective here is to identify the maximum number of clients that are actually prone to stop doing business with the company, even if some \"non-churners\" are wrongly identified as \"churners\". That is to say, in our case, it is better to pursue a smaller number of False Negatives possible."
      ]
    },
    {
      "cell_type": "markdown",
      "metadata": {
        "id": "P5beImpvGsUh"
      },
      "source": [
        "Also, let's draw a confusion matrix for each of these algorithms to visualize their performance on the test set."
      ]
    },
    {
      "cell_type": "code",
      "metadata": {
        "colab": {
          "base_uri": "https://localhost:8080/",
          "height": 542
        },
        "id": "6kg2JBIWzUMj",
        "outputId": "c77fe0f0-da17-4202-814a-7c06d50647e4"
      },
      "source": [
        "# final SVC model\n",
        "svc = SVC()\n",
        "svc.fit(X_train, y_train)\n",
        "\n",
        "# prediction\n",
        "X_test_svc = X_test\n",
        "y_pred_svc = svc.predict(X_test_svc)\n",
        "\n",
        "# classification report\n",
        "print(classification_report(y_test, y_pred_svc))\n",
        "\n",
        "# confusion matrix\n",
        "fig, ax = plt.subplots()\n",
        "sns.heatmap(confusion_matrix(y_test, y_pred_svc, normalize='true'), annot=True, ax=ax)\n",
        "ax.set_title('Confusion Matrix')\n",
        "ax.set_ylabel('Real Value')\n",
        "ax.set_xlabel('Predicted Value')\n",
        "\n",
        "plt.show()"
      ],
      "execution_count": 45,
      "outputs": [
        {
          "output_type": "stream",
          "name": "stderr",
          "text": [
            "/usr/local/lib/python3.7/dist-packages/sklearn/utils/validation.py:760: DataConversionWarning: A column-vector y was passed when a 1d array was expected. Please change the shape of y to (n_samples, ), for example using ravel().\n",
            "  y = column_or_1d(y, warn=True)\n",
            "/usr/local/lib/python3.7/dist-packages/sklearn/metrics/_classification.py:1272: UndefinedMetricWarning: Precision and F-score are ill-defined and being set to 0.0 in labels with no predicted samples. Use `zero_division` parameter to control this behavior.\n",
            "  _warn_prf(average, modifier, msg_start, len(result))\n"
          ]
        },
        {
          "output_type": "stream",
          "name": "stdout",
          "text": [
            "              precision    recall  f1-score   support\n",
            "\n",
            "         0.0       0.00      0.00      0.00       352\n",
            "         1.0       0.56      1.00      0.72       445\n",
            "\n",
            "    accuracy                           0.56       797\n",
            "   macro avg       0.28      0.50      0.36       797\n",
            "weighted avg       0.31      0.56      0.40       797\n",
            "\n"
          ]
        },
        {
          "output_type": "display_data",
          "data": {
            "image/png": "[encoded data removed]",
            "text/plain": [
              "<Figure size 432x288 with 2 Axes>"
            ]
          },
          "metadata": {}
        }
      ]
    },
    {
      "cell_type": "markdown",
      "metadata": {
        "id": "0ZqMy6a_J1WE"
      },
      "source": [
        "SVC model has bias and is predicting 1 for all data"
      ]
    },
    {
      "cell_type": "code",
      "metadata": {
        "colab": {
          "base_uri": "https://localhost:8080/",
          "height": 1000
        },
        "id": "VKVjTch31HrN",
        "outputId": "30501627-132d-4890-f460-9c1c824854bd"
      },
      "source": [
        "# final Logistic Regression model\n",
        "lr = LogisticRegression(solver='newton-cg', C=0.0001)\n",
        "lr.fit(X_train, y_train)\n",
        "\n",
        "# prediction\n",
        "X_test_lr = X_test\n",
        "y_pred_lr = lr.predict(X_test_lr)\n",
        "\n",
        "# classification report\n",
        "print(classification_report(y_test, y_pred_lr))\n",
        "\n",
        "# confusion matrix\n",
        "fig, ax = plt.subplots()\n",
        "sns.heatmap(confusion_matrix(y_test, y_pred_lr, normalize='true'), annot=True, ax=ax)\n",
        "ax.set_title('Confusion Matrix')\n",
        "ax.set_ylabel('Real Value')\n",
        "ax.set_xlabel('Predicted Value')\n",
        "\n",
        "plt.show()"
      ],
      "execution_count": 50,
      "outputs": [
        {
          "output_type": "stream",
          "name": "stderr",
          "text": [
            "/usr/local/lib/python3.7/dist-packages/sklearn/utils/validation.py:760: DataConversionWarning: A column-vector y was passed when a 1d array was expected. Please change the shape of y to (n_samples, ), for example using ravel().\n",
            "  y = column_or_1d(y, warn=True)\n",
            "/usr/local/lib/python3.7/dist-packages/scipy/optimize/linesearch.py:466: LineSearchWarning: The line search algorithm did not converge\n",
            "  warn('The line search algorithm did not converge', LineSearchWarning)\n",
            "/usr/local/lib/python3.7/dist-packages/scipy/optimize/linesearch.py:314: LineSearchWarning: The line search algorithm did not converge\n",
            "  warn('The line search algorithm did not converge', LineSearchWarning)\n",
            "/usr/local/lib/python3.7/dist-packages/scipy/optimize/linesearch.py:466: LineSearchWarning: The line search algorithm did not converge\n",
            "  warn('The line search algorithm did not converge', LineSearchWarning)\n",
            "/usr/local/lib/python3.7/dist-packages/scipy/optimize/linesearch.py:314: LineSearchWarning: The line search algorithm did not converge\n",
            "  warn('The line search algorithm did not converge', LineSearchWarning)\n",
            "/usr/local/lib/python3.7/dist-packages/scipy/optimize/linesearch.py:466: LineSearchWarning: The line search algorithm did not converge\n",
            "  warn('The line search algorithm did not converge', LineSearchWarning)\n",
            "/usr/local/lib/python3.7/dist-packages/scipy/optimize/linesearch.py:314: LineSearchWarning: The line search algorithm did not converge\n",
            "  warn('The line search algorithm did not converge', LineSearchWarning)\n",
            "/usr/local/lib/python3.7/dist-packages/scipy/optimize/linesearch.py:466: LineSearchWarning: The line search algorithm did not converge\n",
            "  warn('The line search algorithm did not converge', LineSearchWarning)\n",
            "/usr/local/lib/python3.7/dist-packages/scipy/optimize/linesearch.py:314: LineSearchWarning: The line search algorithm did not converge\n",
            "  warn('The line search algorithm did not converge', LineSearchWarning)\n",
            "/usr/local/lib/python3.7/dist-packages/scipy/optimize/linesearch.py:466: LineSearchWarning: The line search algorithm did not converge\n",
            "  warn('The line search algorithm did not converge', LineSearchWarning)\n",
            "/usr/local/lib/python3.7/dist-packages/scipy/optimize/linesearch.py:314: LineSearchWarning: The line search algorithm did not converge\n",
            "  warn('The line search algorithm did not converge', LineSearchWarning)\n",
            "/usr/local/lib/python3.7/dist-packages/scipy/optimize/linesearch.py:466: LineSearchWarning: The line search algorithm did not converge\n",
            "  warn('The line search algorithm did not converge', LineSearchWarning)\n",
            "/usr/local/lib/python3.7/dist-packages/scipy/optimize/linesearch.py:314: LineSearchWarning: The line search algorithm did not converge\n",
            "  warn('The line search algorithm did not converge', LineSearchWarning)\n",
            "/usr/local/lib/python3.7/dist-packages/scipy/optimize/linesearch.py:466: LineSearchWarning: The line search algorithm did not converge\n",
            "  warn('The line search algorithm did not converge', LineSearchWarning)\n",
            "/usr/local/lib/python3.7/dist-packages/scipy/optimize/linesearch.py:314: LineSearchWarning: The line search algorithm did not converge\n",
            "  warn('The line search algorithm did not converge', LineSearchWarning)\n",
            "/usr/local/lib/python3.7/dist-packages/scipy/optimize/linesearch.py:466: LineSearchWarning: The line search algorithm did not converge\n",
            "  warn('The line search algorithm did not converge', LineSearchWarning)\n",
            "/usr/local/lib/python3.7/dist-packages/scipy/optimize/linesearch.py:314: LineSearchWarning: The line search algorithm did not converge\n",
            "  warn('The line search algorithm did not converge', LineSearchWarning)\n",
            "/usr/local/lib/python3.7/dist-packages/scipy/optimize/linesearch.py:466: LineSearchWarning: The line search algorithm did not converge\n",
            "  warn('The line search algorithm did not converge', LineSearchWarning)\n",
            "/usr/local/lib/python3.7/dist-packages/scipy/optimize/linesearch.py:314: LineSearchWarning: The line search algorithm did not converge\n",
            "  warn('The line search algorithm did not converge', LineSearchWarning)\n",
            "/usr/local/lib/python3.7/dist-packages/scipy/optimize/linesearch.py:466: LineSearchWarning: The line search algorithm did not converge\n",
            "  warn('The line search algorithm did not converge', LineSearchWarning)\n",
            "/usr/local/lib/python3.7/dist-packages/scipy/optimize/linesearch.py:314: LineSearchWarning: The line search algorithm did not converge\n",
            "  warn('The line search algorithm did not converge', LineSearchWarning)\n",
            "/usr/local/lib/python3.7/dist-packages/scipy/optimize/linesearch.py:466: LineSearchWarning: The line search algorithm did not converge\n",
            "  warn('The line search algorithm did not converge', LineSearchWarning)\n",
            "/usr/local/lib/python3.7/dist-packages/scipy/optimize/linesearch.py:314: LineSearchWarning: The line search algorithm did not converge\n",
            "  warn('The line search algorithm did not converge', LineSearchWarning)\n",
            "/usr/local/lib/python3.7/dist-packages/scipy/optimize/linesearch.py:426: LineSearchWarning: Rounding errors prevent the line search from converging\n",
            "  warn(msg, LineSearchWarning)\n",
            "/usr/local/lib/python3.7/dist-packages/scipy/optimize/linesearch.py:314: LineSearchWarning: The line search algorithm did not converge\n",
            "  warn('The line search algorithm did not converge', LineSearchWarning)\n",
            "/usr/local/lib/python3.7/dist-packages/sklearn/utils/optimize.py:204: UserWarning: Line Search failed\n",
            "  warnings.warn('Line Search failed')\n"
          ]
        },
        {
          "output_type": "stream",
          "name": "stdout",
          "text": [
            "              precision    recall  f1-score   support\n",
            "\n",
            "         0.0       0.46      0.24      0.32       352\n",
            "         1.0       0.56      0.77      0.65       445\n",
            "\n",
            "    accuracy                           0.54       797\n",
            "   macro avg       0.51      0.51      0.49       797\n",
            "weighted avg       0.52      0.54      0.51       797\n",
            "\n"
          ]
        },
        {
          "output_type": "display_data",
          "data": {
            "image/png": "[encoded data removed]",
            "text/plain": [
              "<Figure size 432x288 with 2 Axes>"
            ]
          },
          "metadata": {}
        }
      ]
    },
    {
      "cell_type": "markdown",
      "metadata": {
        "id": "Iih7yI5DK6GZ"
      },
      "source": [
        "Logistic Regression model has a balanced recall with 0.77 for positive values and 0.24 for negative values"
      ]
    },
    {
      "cell_type": "code",
      "metadata": {
        "colab": {
          "base_uri": "https://localhost:8080/",
          "height": 542
        },
        "id": "KRIz91Ru1RGg",
        "outputId": "171ae253-2dd6-440f-ba3e-d54c738eb3e4"
      },
      "source": [
        "# final XGBoost model\n",
        "xgb = XGBClassifier(max_depth=8, learning_rate=0.08, objective= 'binary:logistic',n_jobs=-1)\n",
        "xgb.fit(X_train, y_train)\n",
        "\n",
        "# prediction\n",
        "X_test_xgb = X_test\n",
        "y_pred_xgb = xgb.predict(X_test_xgb)\n",
        "\n",
        "# classification report\n",
        "print(classification_report(y_test, y_pred_xgb))\n",
        "\n",
        "# confusion matrix\n",
        "fig, ax = plt.subplots()\n",
        "sns.heatmap(confusion_matrix(y_test, y_pred_xgb, normalize='true'), annot=True, ax=ax)\n",
        "ax.set_title('Confusion Matrix')\n",
        "ax.set_ylabel('Real Value')\n",
        "ax.set_xlabel('Predicted Value')\n",
        "\n",
        "plt.show()"
      ],
      "execution_count": 49,
      "outputs": [
        {
          "output_type": "stream",
          "name": "stderr",
          "text": [
            "/usr/local/lib/python3.7/dist-packages/sklearn/preprocessing/_label.py:235: DataConversionWarning: A column-vector y was passed when a 1d array was expected. Please change the shape of y to (n_samples, ), for example using ravel().\n",
            "  y = column_or_1d(y, warn=True)\n",
            "/usr/local/lib/python3.7/dist-packages/sklearn/preprocessing/_label.py:268: DataConversionWarning: A column-vector y was passed when a 1d array was expected. Please change the shape of y to (n_samples, ), for example using ravel().\n",
            "  y = column_or_1d(y, warn=True)\n"
          ]
        },
        {
          "output_type": "stream",
          "name": "stdout",
          "text": [
            "              precision    recall  f1-score   support\n",
            "\n",
            "         0.0       0.49      0.37      0.42       352\n",
            "         1.0       0.58      0.70      0.64       445\n",
            "\n",
            "    accuracy                           0.55       797\n",
            "   macro avg       0.54      0.53      0.53       797\n",
            "weighted avg       0.54      0.55      0.54       797\n",
            "\n"
          ]
        },
        {
          "output_type": "display_data",
          "data": {
            "image/png": "[encoded data removed]",
            "text/plain": [
              "<Figure size 432x288 with 2 Axes>"
            ]
          },
          "metadata": {}
        }
      ]
    },
    {
      "cell_type": "markdown",
      "metadata": {
        "id": "MJSDawNELOC3"
      },
      "source": [
        "XGBoost model has a more balanced recall with 0.7 for positive values and 0.37 for negative values"
      ]
    },
    {
      "cell_type": "markdown",
      "metadata": {
        "id": "rZiul82wqoTX"
      },
      "source": [
        "# 6. Interpreting Data"
      ]
    },
    {
      "cell_type": "markdown",
      "metadata": {
        "id": "gcggeJKdrfut"
      },
      "source": [
        "Between the three models, XGBoost is the model wich fits better for the test data and shows a more balanced recall with 0.70 for positive value in the test set which for the business is desirable because is better to pursue a smaller number of False Negatives(clients who will drop the product and the model predict they don't) possible.\n",
        "\n",
        "For that reason, XGBoost will be the chosen model with an accuracy of 0.55."
      ]
    }
  ]
}