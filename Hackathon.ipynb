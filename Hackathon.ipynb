{
  "nbformat": 4,
  "nbformat_minor": 0,
  "metadata": {
    "colab": {
      "name": "Hackathon.ipynb",
      "provenance": [],
      "collapsed_sections": [],
      "mount_file_id": "17tUw1bTSi2jxmC5TFBDhf8IphNeWcTgc",
      "authorship_tag": "ABX9TyOOsqk87YmaGM9GkEOaIGdz",
      "include_colab_link": true
    },
    "kernelspec": {
      "name": "python3",
      "display_name": "Python 3"
    },
    "language_info": {
      "name": "python"
    }
  },
  "cells": [
    {
      "cell_type": "markdown",
      "metadata": {
        "id": "view-in-github",
        "colab_type": "text"
      },
      "source": [
        "<a href=\"https://colab.research.google.com/github/nestoredduardo/two-year-churn-predictive-model/blob/main/Hackathon.ipynb\" target=\"_parent\"><img src=\"https://colab.research.google.com/assets/colab-badge.svg\" alt=\"Open In Colab\"/></a>"
      ]
    },
    {
      "cell_type": "markdown",
      "metadata": {
        "id": "i_vunFWqlZJW"
      },
      "source": [
        "# **Data Scientist Hackathon**"
      ]
    },
    {
      "cell_type": "markdown",
      "metadata": {
        "id": "WPMRs6ctmHqI"
      },
      "source": [
        "# 1. Problem"
      ]
    },
    {
      "cell_type": "markdown",
      "metadata": {
        "id": "-5uObpKLmby3"
      },
      "source": [
        "# 2. Obtain Data"
      ]
    },
    {
      "cell_type": "code",
      "metadata": {
        "id": "r0DIjyokc3fa"
      },
      "source": [
        "import pandas as pd"
      ],
      "execution_count": 1,
      "outputs": []
    },
    {
      "cell_type": "code",
      "metadata": {
        "id": "dZAqVhr7bWJF"
      },
      "source": [
        "tb_clients_path = '/content/drive/MyDrive/Jobs/KIN/clients_table.txt'\n",
        "tb_credit_score_path = '/content/drive/MyDrive/Jobs/KIN/credit_score_table.txt'\n",
        "tb_products_path = '/content/drive/MyDrive/Jobs/KIN/products_table.txt'\n",
        "tb_transactions_path = '/content/drive/MyDrive/Jobs/KIN/transactions_table.txt'"
      ],
      "execution_count": 2,
      "outputs": []
    },
    {
      "cell_type": "code",
      "metadata": {
        "id": "K6ASB3GVcon-"
      },
      "source": [
        "df_clients = pd.read_csv(tb_clients_path)\n",
        "df_credit_score = pd.read_csv(tb_credit_score_path)\n",
        "df_products = pd.read_csv(tb_products_path)\n",
        "df_transactions = pd.read_csv(tb_transactions_path)"
      ],
      "execution_count": 3,
      "outputs": []
    },
    {
      "cell_type": "markdown",
      "metadata": {
        "id": "dr9EGGR8m6Nr"
      },
      "source": [
        "# 3. Scrub Data"
      ]
    },
    {
      "cell_type": "code",
      "metadata": {
        "colab": {
          "base_uri": "https://localhost:8080/",
          "height": 203
        },
        "id": "0Sgptc4r9bBU",
        "outputId": "d8b5e6d9-4220-4215-8a33-1d84d8b4a483"
      },
      "source": [
        "df_clients.head()"
      ],
      "execution_count": 4,
      "outputs": [
        {
          "output_type": "execute_result",
          "data": {
            "text/html": [
              "<div>\n",
              "<style scoped>\n",
              "    .dataframe tbody tr th:only-of-type {\n",
              "        vertical-align: middle;\n",
              "    }\n",
              "\n",
              "    .dataframe tbody tr th {\n",
              "        vertical-align: top;\n",
              "    }\n",
              "\n",
              "    .dataframe thead th {\n",
              "        text-align: right;\n",
              "    }\n",
              "</style>\n",
              "<table border=\"1\" class=\"dataframe\">\n",
              "  <thead>\n",
              "    <tr style=\"text-align: right;\">\n",
              "      <th></th>\n",
              "      <th>CustomerId</th>\n",
              "      <th>Surname</th>\n",
              "      <th>Geography</th>\n",
              "      <th>Gender</th>\n",
              "      <th>HasCrCard</th>\n",
              "      <th>IsActiveMember</th>\n",
              "      <th>EstimatedSalary</th>\n",
              "      <th>application_date</th>\n",
              "      <th>exit_date</th>\n",
              "      <th>birth_date</th>\n",
              "    </tr>\n",
              "  </thead>\n",
              "  <tbody>\n",
              "    <tr>\n",
              "      <th>0</th>\n",
              "      <td>15745584</td>\n",
              "      <td>EIRLS</td>\n",
              "      <td>Germany</td>\n",
              "      <td>Female</td>\n",
              "      <td>0.0</td>\n",
              "      <td>1.0</td>\n",
              "      <td>0.00</td>\n",
              "      <td>2018-12-14</td>\n",
              "      <td>NaN</td>\n",
              "      <td>1997-09-18</td>\n",
              "    </tr>\n",
              "    <tr>\n",
              "      <th>1</th>\n",
              "      <td>14990118</td>\n",
              "      <td>MOLOCK</td>\n",
              "      <td>Italy</td>\n",
              "      <td>Male</td>\n",
              "      <td>1.0</td>\n",
              "      <td>0.0</td>\n",
              "      <td>121219.28</td>\n",
              "      <td>2019-01-08</td>\n",
              "      <td>NaN</td>\n",
              "      <td>1980-08-03</td>\n",
              "    </tr>\n",
              "    <tr>\n",
              "      <th>2</th>\n",
              "      <td>14733224</td>\n",
              "      <td>PAWLUCH</td>\n",
              "      <td>Italy</td>\n",
              "      <td>Female</td>\n",
              "      <td>1.0</td>\n",
              "      <td>1.0</td>\n",
              "      <td>159663.59</td>\n",
              "      <td>2012-08-01</td>\n",
              "      <td>2013-08-09</td>\n",
              "      <td>1977-08-19</td>\n",
              "    </tr>\n",
              "    <tr>\n",
              "      <th>3</th>\n",
              "      <td>14648573</td>\n",
              "      <td>NALLS</td>\n",
              "      <td>Spain</td>\n",
              "      <td>Male</td>\n",
              "      <td>1.0</td>\n",
              "      <td>0.0</td>\n",
              "      <td>140827.98</td>\n",
              "      <td>2019-06-19</td>\n",
              "      <td>NaN</td>\n",
              "      <td>1979-02-27</td>\n",
              "    </tr>\n",
              "    <tr>\n",
              "      <th>4</th>\n",
              "      <td>15365443</td>\n",
              "      <td>EBERLE</td>\n",
              "      <td>Italy</td>\n",
              "      <td>Male</td>\n",
              "      <td>1.0</td>\n",
              "      <td>0.0</td>\n",
              "      <td>35521.28</td>\n",
              "      <td>2014-01-26</td>\n",
              "      <td>2015-12-04</td>\n",
              "      <td>1972-12-21</td>\n",
              "    </tr>\n",
              "  </tbody>\n",
              "</table>\n",
              "</div>"
            ],
            "text/plain": [
              "   CustomerId  Surname Geography  ... application_date   exit_date  birth_date\n",
              "0    15745584    EIRLS   Germany  ...       2018-12-14         NaN  1997-09-18\n",
              "1    14990118   MOLOCK     Italy  ...       2019-01-08         NaN  1980-08-03\n",
              "2    14733224  PAWLUCH     Italy  ...       2012-08-01  2013-08-09  1977-08-19\n",
              "3    14648573    NALLS     Spain  ...       2019-06-19         NaN  1979-02-27\n",
              "4    15365443   EBERLE     Italy  ...       2014-01-26  2015-12-04  1972-12-21\n",
              "\n",
              "[5 rows x 10 columns]"
            ]
          },
          "metadata": {},
          "execution_count": 4
        }
      ]
    },
    {
      "cell_type": "code",
      "metadata": {
        "colab": {
          "base_uri": "https://localhost:8080/"
        },
        "id": "-yza4yDu-bLB",
        "outputId": "186a5cbc-39ef-4d77-91da-04d87ddcc6ee"
      },
      "source": [
        "df_clients.shape"
      ],
      "execution_count": 5,
      "outputs": [
        {
          "output_type": "execute_result",
          "data": {
            "text/plain": [
              "(1545000, 10)"
            ]
          },
          "metadata": {},
          "execution_count": 5
        }
      ]
    },
    {
      "cell_type": "markdown",
      "metadata": {
        "id": "3Uo6QLZB-nW3"
      },
      "source": [
        "## Desired Population:\n",
        "a. Contracts from 2015 onwards.\n",
        "\n",
        "b. Operations in Italy were closed this year (2019).\n",
        "\n",
        "\n",
        "c. Take out clients with more than 75% of their info missing.\n",
        "\n",
        "d. Each client should only have one contract in the database, no more.\n",
        "\n",
        "e. Remember that for a client to be eligible, it must have at least two years of information within the company (even if it canceled the product)."
      ]
    },
    {
      "cell_type": "markdown",
      "metadata": {
        "id": "xuBFqfvhAoLL"
      },
      "source": [
        "### a. Contracts from 2015 onwards."
      ]
    },
    {
      "cell_type": "code",
      "metadata": {
        "colab": {
          "base_uri": "https://localhost:8080/"
        },
        "id": "pEfKkm-_A1oV",
        "outputId": "b32a1d62-9c25-4182-981b-63df5deaff44"
      },
      "source": [
        "df_clients_desired = df_clients[df_clients['application_date'] >= '2015-01-01']\n",
        "print(df_clients_desired.head())\n",
        "print(df_clients_desired.shape)"
      ],
      "execution_count": 6,
      "outputs": [
        {
          "output_type": "stream",
          "name": "stdout",
          "text": [
            "   CustomerId   Surname Geography  ... application_date   exit_date  birth_date\n",
            "0    15745584     EIRLS   Germany  ...       2018-12-14         NaN  1997-09-18\n",
            "1    14990118    MOLOCK     Italy  ...       2019-01-08         NaN  1980-08-03\n",
            "3    14648573     NALLS     Spain  ...       2019-06-19         NaN  1979-02-27\n",
            "5    15638124  BRASHERS     Italy  ...       2018-02-23         NaN  1983-01-13\n",
            "7    14523468  LASKOSKI     Spain  ...       2017-12-28  2018-11-19  1972-10-30\n",
            "\n",
            "[5 rows x 10 columns]\n",
            "(623242, 10)\n"
          ]
        }
      ]
    },
    {
      "cell_type": "markdown",
      "metadata": {
        "id": "NKWPKEgWDPua"
      },
      "source": [
        "### b. Operations in Italy were closed this year (2019)."
      ]
    },
    {
      "cell_type": "code",
      "metadata": {
        "colab": {
          "base_uri": "https://localhost:8080/"
        },
        "id": "1KHFjYoeDWpr",
        "outputId": "1b1f4333-ba04-476e-b807-d99705802561"
      },
      "source": [
        "df_clients_desired = df_clients_desired[df_clients_desired['Geography'] != 'Italy']\n",
        "print(df_clients_desired.head())\n",
        "print(df_clients_desired.shape)"
      ],
      "execution_count": 7,
      "outputs": [
        {
          "output_type": "stream",
          "name": "stdout",
          "text": [
            "    CustomerId   Surname Geography  ... application_date   exit_date  birth_date\n",
            "0     15745584     EIRLS   Germany  ...       2018-12-14         NaN  1997-09-18\n",
            "3     14648573     NALLS     Spain  ...       2019-06-19         NaN  1979-02-27\n",
            "7     14523468  LASKOSKI     Spain  ...       2017-12-28  2018-11-19  1972-10-30\n",
            "14    15165393  LABIANCA     Spain  ...       2018-02-22  2019-06-11  1974-07-11\n",
            "15    14611239     DOKKA    France  ...       2019-02-24         NaN  1986-04-26\n",
            "\n",
            "[5 rows x 10 columns]\n",
            "(487424, 10)\n"
          ]
        }
      ]
    },
    {
      "cell_type": "markdown",
      "metadata": {
        "id": "zjRAPjmoD7O0"
      },
      "source": [
        "### c. Take out clients with more than 75% of their info missing."
      ]
    },
    {
      "cell_type": "code",
      "metadata": {
        "colab": {
          "base_uri": "https://localhost:8080/"
        },
        "id": "dEOMX8MSFVlw",
        "outputId": "a1d41ceb-155a-4019-ccd7-cdb05acda221"
      },
      "source": [
        "df_clients_desired.isna().sum()"
      ],
      "execution_count": 8,
      "outputs": [
        {
          "output_type": "execute_result",
          "data": {
            "text/plain": [
              "CustomerId               0\n",
              "Surname              23362\n",
              "Geography            23349\n",
              "Gender               23349\n",
              "HasCrCard            23349\n",
              "IsActiveMember       23349\n",
              "EstimatedSalary      23349\n",
              "application_date         0\n",
              "exit_date           382626\n",
              "birth_date           23349\n",
              "dtype: int64"
            ]
          },
          "metadata": {},
          "execution_count": 8
        }
      ]
    },
    {
      "cell_type": "code",
      "metadata": {
        "colab": {
          "base_uri": "https://localhost:8080/"
        },
        "id": "Px_b8mbWEFf9",
        "outputId": "e7b50ccf-5a43-4394-9ddb-cf9880433f3c"
      },
      "source": [
        "number_info_missing = 75/100 * 9\n",
        "print(number_info_missing)"
      ],
      "execution_count": 9,
      "outputs": [
        {
          "output_type": "stream",
          "name": "stdout",
          "text": [
            "6.75\n"
          ]
        }
      ]
    },
    {
      "cell_type": "code",
      "metadata": {
        "colab": {
          "base_uri": "https://localhost:8080/"
        },
        "id": "IJvAWNMGGKPi",
        "outputId": "42c2bfc7-f961-48e2-9368-9f913fa50deb"
      },
      "source": [
        "df_clients_desired = df_clients_desired[df_clients_desired.isnull().sum(axis=1) < number_info_missing]\n",
        "print(df_clients_desired.head())\n",
        "print(df_clients_desired.shape)"
      ],
      "execution_count": 10,
      "outputs": [
        {
          "output_type": "stream",
          "name": "stdout",
          "text": [
            "    CustomerId   Surname Geography  ... application_date   exit_date  birth_date\n",
            "0     15745584     EIRLS   Germany  ...       2018-12-14         NaN  1997-09-18\n",
            "3     14648573     NALLS     Spain  ...       2019-06-19         NaN  1979-02-27\n",
            "7     14523468  LASKOSKI     Spain  ...       2017-12-28  2018-11-19  1972-10-30\n",
            "14    15165393  LABIANCA     Spain  ...       2018-02-22  2019-06-11  1974-07-11\n",
            "15    14611239     DOKKA    France  ...       2019-02-24         NaN  1986-04-26\n",
            "\n",
            "[5 rows x 10 columns]\n",
            "(464075, 10)\n"
          ]
        }
      ]
    },
    {
      "cell_type": "markdown",
      "metadata": {
        "id": "3Evdx8qjHrdC"
      },
      "source": [
        "### d. Each client should only have one contract in the database, no more."
      ]
    },
    {
      "cell_type": "code",
      "metadata": {
        "colab": {
          "base_uri": "https://localhost:8080/"
        },
        "id": "cgq9QVHXHw9o",
        "outputId": "e4da3237-2665-44f1-939b-28cbf5953af9"
      },
      "source": [
        "df_clients_desired.drop_duplicates(subset=['CustomerId'],keep= 'first', inplace= True)\n",
        "print(df_clients_desired.head())\n",
        "print(df_clients_desired.shape)"
      ],
      "execution_count": 11,
      "outputs": [
        {
          "output_type": "stream",
          "name": "stdout",
          "text": [
            "    CustomerId   Surname Geography  ... application_date   exit_date  birth_date\n",
            "0     15745584     EIRLS   Germany  ...       2018-12-14         NaN  1997-09-18\n",
            "3     14648573     NALLS     Spain  ...       2019-06-19         NaN  1979-02-27\n",
            "7     14523468  LASKOSKI     Spain  ...       2017-12-28  2018-11-19  1972-10-30\n",
            "14    15165393  LABIANCA     Spain  ...       2018-02-22  2019-06-11  1974-07-11\n",
            "15    14611239     DOKKA    France  ...       2019-02-24         NaN  1986-04-26\n",
            "\n",
            "[5 rows x 10 columns]\n",
            "(450562, 10)\n"
          ]
        }
      ]
    },
    {
      "cell_type": "markdown",
      "metadata": {
        "id": "_vru3CAULrMm"
      },
      "source": [
        "### e. Remember that for a client to be eligible, it must have at least two years of information within the company (even if it canceled the product)."
      ]
    },
    {
      "cell_type": "code",
      "metadata": {
        "id": "pmm-tVcOL13N"
      },
      "source": [
        "today_date = '30/11/2019'"
      ],
      "execution_count": 13,
      "outputs": []
    },
    {
      "cell_type": "code",
      "metadata": {
        "id": "BRrjYE_6P45n"
      },
      "source": [
        "application_date = pd.to_datetime(df_clients_desired['application_date'])\n",
        "exit_date = pd.to_datetime(df_clients_desired['exit_date'])"
      ],
      "execution_count": 21,
      "outputs": []
    },
    {
      "cell_type": "code",
      "metadata": {
        "colab": {
          "base_uri": "https://localhost:8080/",
          "height": 203
        },
        "id": "ZnEgd1AbQgSx",
        "outputId": "f102b54a-6f05-4955-af5c-ff0fe367c194"
      },
      "source": [
        "df_clients_desired['application_date'] = application_date\n",
        "df_clients_desired['exit_date'] = exit_date\n",
        "df_clients_desired.head()"
      ],
      "execution_count": 22,
      "outputs": [
        {
          "output_type": "execute_result",
          "data": {
            "text/html": [
              "<div>\n",
              "<style scoped>\n",
              "    .dataframe tbody tr th:only-of-type {\n",
              "        vertical-align: middle;\n",
              "    }\n",
              "\n",
              "    .dataframe tbody tr th {\n",
              "        vertical-align: top;\n",
              "    }\n",
              "\n",
              "    .dataframe thead th {\n",
              "        text-align: right;\n",
              "    }\n",
              "</style>\n",
              "<table border=\"1\" class=\"dataframe\">\n",
              "  <thead>\n",
              "    <tr style=\"text-align: right;\">\n",
              "      <th></th>\n",
              "      <th>CustomerId</th>\n",
              "      <th>Surname</th>\n",
              "      <th>Geography</th>\n",
              "      <th>Gender</th>\n",
              "      <th>HasCrCard</th>\n",
              "      <th>IsActiveMember</th>\n",
              "      <th>EstimatedSalary</th>\n",
              "      <th>application_date</th>\n",
              "      <th>exit_date</th>\n",
              "      <th>birth_date</th>\n",
              "    </tr>\n",
              "  </thead>\n",
              "  <tbody>\n",
              "    <tr>\n",
              "      <th>0</th>\n",
              "      <td>15745584</td>\n",
              "      <td>EIRLS</td>\n",
              "      <td>Germany</td>\n",
              "      <td>Female</td>\n",
              "      <td>0.0</td>\n",
              "      <td>1.0</td>\n",
              "      <td>0.00</td>\n",
              "      <td>2018-12-14</td>\n",
              "      <td>NaT</td>\n",
              "      <td>1997-09-18</td>\n",
              "    </tr>\n",
              "    <tr>\n",
              "      <th>3</th>\n",
              "      <td>14648573</td>\n",
              "      <td>NALLS</td>\n",
              "      <td>Spain</td>\n",
              "      <td>Male</td>\n",
              "      <td>1.0</td>\n",
              "      <td>0.0</td>\n",
              "      <td>140827.98</td>\n",
              "      <td>2019-06-19</td>\n",
              "      <td>NaT</td>\n",
              "      <td>1979-02-27</td>\n",
              "    </tr>\n",
              "    <tr>\n",
              "      <th>7</th>\n",
              "      <td>14523468</td>\n",
              "      <td>LASKOSKI</td>\n",
              "      <td>Spain</td>\n",
              "      <td>Female</td>\n",
              "      <td>1.0</td>\n",
              "      <td>0.0</td>\n",
              "      <td>158161.23</td>\n",
              "      <td>2017-12-28</td>\n",
              "      <td>2018-11-19</td>\n",
              "      <td>1972-10-30</td>\n",
              "    </tr>\n",
              "    <tr>\n",
              "      <th>14</th>\n",
              "      <td>15165393</td>\n",
              "      <td>LABIANCA</td>\n",
              "      <td>Spain</td>\n",
              "      <td>Male</td>\n",
              "      <td>1.0</td>\n",
              "      <td>1.0</td>\n",
              "      <td>2612.65</td>\n",
              "      <td>2018-02-22</td>\n",
              "      <td>2019-06-11</td>\n",
              "      <td>1974-07-11</td>\n",
              "    </tr>\n",
              "    <tr>\n",
              "      <th>15</th>\n",
              "      <td>14611239</td>\n",
              "      <td>DOKKA</td>\n",
              "      <td>France</td>\n",
              "      <td>Male</td>\n",
              "      <td>0.0</td>\n",
              "      <td>1.0</td>\n",
              "      <td>72210.60</td>\n",
              "      <td>2019-02-24</td>\n",
              "      <td>NaT</td>\n",
              "      <td>1986-04-26</td>\n",
              "    </tr>\n",
              "  </tbody>\n",
              "</table>\n",
              "</div>"
            ],
            "text/plain": [
              "    CustomerId   Surname Geography  ... application_date  exit_date  birth_date\n",
              "0     15745584     EIRLS   Germany  ...       2018-12-14        NaT  1997-09-18\n",
              "3     14648573     NALLS     Spain  ...       2019-06-19        NaT  1979-02-27\n",
              "7     14523468  LASKOSKI     Spain  ...       2017-12-28 2018-11-19  1972-10-30\n",
              "14    15165393  LABIANCA     Spain  ...       2018-02-22 2019-06-11  1974-07-11\n",
              "15    14611239     DOKKA    France  ...       2019-02-24        NaT  1986-04-26\n",
              "\n",
              "[5 rows x 10 columns]"
            ]
          },
          "metadata": {},
          "execution_count": 22
        }
      ]
    },
    {
      "cell_type": "code",
      "metadata": {
        "colab": {
          "base_uri": "https://localhost:8080/"
        },
        "id": "9eBRWLj7OI6Q",
        "outputId": "50447fc2-faaf-4a20-d4ec-333843f59da9"
      },
      "source": [
        "df_clients_desired['exit_date'] - df_clients_desired['application_date']"
      ],
      "execution_count": 27,
      "outputs": [
        {
          "output_type": "execute_result",
          "data": {
            "text/plain": [
              "0              NaT\n",
              "3              NaT\n",
              "7         326 days\n",
              "14        474 days\n",
              "15             NaT\n",
              "            ...   \n",
              "1544983        NaT\n",
              "1544991        NaT\n",
              "1544993        NaT\n",
              "1544996        NaT\n",
              "1544999        NaT\n",
              "Length: 450562, dtype: timedelta64[ns]"
            ]
          },
          "metadata": {},
          "execution_count": 27
        }
      ]
    },
    {
      "cell_type": "markdown",
      "metadata": {
        "id": "_5dAkA6RpiSe"
      },
      "source": [
        "# 4. Explore Data"
      ]
    },
    {
      "cell_type": "markdown",
      "metadata": {
        "id": "rvYmBZXOqY2t"
      },
      "source": [
        "# 5. Model Data"
      ]
    },
    {
      "cell_type": "markdown",
      "metadata": {
        "id": "rZiul82wqoTX"
      },
      "source": [
        "# 6. Interpreting Data"
      ]
    },
    {
      "cell_type": "code",
      "metadata": {
        "id": "gcggeJKdrfut"
      },
      "source": [
        ""
      ],
      "execution_count": null,
      "outputs": []
    }
  ]
}